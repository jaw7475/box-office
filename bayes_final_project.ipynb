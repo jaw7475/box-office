{
 "cells": [
  {
   "cell_type": "code",
   "execution_count": 1,
   "id": "04b25f73-20e9-4c0a-8e33-d97be44a9a55",
   "metadata": {},
   "outputs": [
    {
     "name": "stderr",
     "output_type": "stream",
     "text": [
      "[nltk_data] Downloading package stopwords to\n",
      "[nltk_data]     /Users/aubrey/nltk_data...\n",
      "[nltk_data]   Package stopwords is already up-to-date!\n"
     ]
    }
   ],
   "source": [
    "import numpy as np\n",
    "import pandas as pd\n",
    "from sklearn.decomposition import LatentDirichletAllocation\n",
    "from sklearn.feature_extraction.text import TfidfVectorizer, CountVectorizer\n",
    "import nltk\n",
    "from nltk.corpus import stopwords\n",
    "import json\n",
    "\n",
    "# Set stop words\n",
    "nltk.download('stopwords')\n",
    "stopWords = set(stopwords.words('english'))"
   ]
  },
  {
   "cell_type": "markdown",
   "id": "550a9c4b-92b7-48f6-8023-2e8e37c16b30",
   "metadata": {},
   "source": [
    "Step One: Combine revenue and rotten tomatoes datasets"
   ]
  },
  {
   "cell_type": "code",
   "execution_count": 2,
   "id": "4a7de21f-6277-42d0-8fcf-3e165a856a95",
   "metadata": {},
   "outputs": [],
   "source": [
    "movies = pd.read_csv(\"rotten_tomatoes_movies.csv\").drop(['movie_info', 'critics_consensus', 'directors', 'authors', 'actors', 'streaming_release_date', \n",
    "                                                         'runtime', 'production_company'], axis = 1)\n",
    "reviews = pd.read_csv(\"rotten_tomatoes_critic_reviews.csv\").drop(['critic_name', 'top_critic', 'publisher_name', 'review_date'], axis = 1)\n",
    "revenue = pd.read_csv(\"movie_revenue.csv\", low_memory = False).drop(['adult', 'homepage', 'imdb_id', 'id', 'poster_path', 'production_companies', \n",
    "                                                                     'production_countries', 'spoken_languages', 'status', 'tagline', 'video', \n",
    "                                                                     'vote_average', 'vote_count', 'original_title'], axis = 1)"
   ]
  },
  {
   "cell_type": "code",
   "execution_count": 3,
   "id": "95dbf73b-e6e7-4fe2-96f1-0eeba49fe706",
   "metadata": {},
   "outputs": [],
   "source": [
    "tomatoes = pd.merge(movies, reviews, on='rotten_tomatoes_link')"
   ]
  },
  {
   "cell_type": "code",
   "execution_count": 4,
   "id": "a999dce2-5a59-41c7-8c74-40d57a5d9bb6",
   "metadata": {},
   "outputs": [],
   "source": [
    "tomatoes = tomatoes.rename({'movie_title': 'title', 'original_release_date': 'release_date'}, axis = 1)"
   ]
  },
  {
   "cell_type": "code",
   "execution_count": 5,
   "id": "dcf7cf15-a7e5-4b8a-8ea0-ae7ce9265f9a",
   "metadata": {},
   "outputs": [],
   "source": [
    "tomatoes['release_date'] = tomatoes['release_date'] + \" 00:00:00\"\n",
    "revenue = revenue.sort_values('revenue', ascending=False).drop_duplicates('title').sort_index()\n",
    "revenue = revenue[revenue['revenue'] > 0]"
   ]
  },
  {
   "cell_type": "code",
   "execution_count": 6,
   "id": "e962e9f5-e487-40ac-b572-1055ef5f9516",
   "metadata": {},
   "outputs": [
    {
     "data": {
      "text/plain": [
       "5301"
      ]
     },
     "execution_count": 6,
     "metadata": {},
     "output_type": "execute_result"
    }
   ],
   "source": [
    "data = pd.merge(tomatoes, revenue, on=['title'])\n",
    "len(data['title'].unique())"
   ]
  },
  {
   "cell_type": "code",
   "execution_count": 7,
   "id": "928ece1f-4ac6-42a2-ae02-fbf75dc902da",
   "metadata": {},
   "outputs": [
    {
     "data": {
      "text/plain": [
       "Index(['rotten_tomatoes_link', 'title', 'content_rating', 'genres_x',\n",
       "       'release_date_x', 'tomatometer_status', 'tomatometer_rating',\n",
       "       'tomatometer_count', 'audience_status', 'audience_rating',\n",
       "       'audience_count', 'tomatometer_top_critics_count',\n",
       "       'tomatometer_fresh_critics_count', 'tomatometer_rotten_critics_count',\n",
       "       'review_type', 'review_score', 'review_content',\n",
       "       'belongs_to_collection', 'budget', 'genres_y', 'original_language',\n",
       "       'overview', 'popularity', 'release_date_y', 'revenue', 'runtime'],\n",
       "      dtype='object')"
      ]
     },
     "execution_count": 7,
     "metadata": {},
     "output_type": "execute_result"
    }
   ],
   "source": [
    "data.columns"
   ]
  },
  {
   "cell_type": "code",
   "execution_count": 8,
   "id": "d3b9c3d9-38f5-4305-9d1a-d8f2336734b7",
   "metadata": {},
   "outputs": [
    {
     "data": {
      "text/plain": [
       "Index(['rotten_tomatoes_link', 'title', 'genres_x', 'release_date_x',\n",
       "       'tomatometer_status', 'tomatometer_rating', 'tomatometer_count',\n",
       "       'audience_status', 'audience_rating', 'audience_count',\n",
       "       'tomatometer_top_critics_count', 'tomatometer_fresh_critics_count',\n",
       "       'tomatometer_rotten_critics_count', 'review_type', 'review_score',\n",
       "       'review_content', 'belongs_to_collection', 'budget', 'genres_y',\n",
       "       'original_language', 'overview', 'popularity', 'release_date_y',\n",
       "       'revenue', 'runtime', 'content_rating_G', 'content_rating_NC17',\n",
       "       'content_rating_NR', 'content_rating_PG', 'content_rating_PG-13',\n",
       "       'content_rating_R'],\n",
       "      dtype='object')"
      ]
     },
     "execution_count": 8,
     "metadata": {},
     "output_type": "execute_result"
    }
   ],
   "source": [
    "data = pd.get_dummies(data, columns = ['content_rating'])\n",
    "data.columns"
   ]
  },
  {
   "cell_type": "code",
   "execution_count": 9,
   "id": "cd309bcb-3661-4091-b2ce-5492410a692a",
   "metadata": {},
   "outputs": [
    {
     "data": {
      "text/plain": [
       "0         {'id': 179919, 'name': 'Percy Jackson Collecti...\n",
       "1         {'id': 179919, 'name': 'Percy Jackson Collecti...\n",
       "2         {'id': 179919, 'name': 'Percy Jackson Collecti...\n",
       "3         {'id': 179919, 'name': 'Percy Jackson Collecti...\n",
       "4         {'id': 179919, 'name': 'Percy Jackson Collecti...\n",
       "                                ...                        \n",
       "620457    {'id': 374386, 'name': 'Anglo-Zulu War Collect...\n",
       "620458    {'id': 374386, 'name': 'Anglo-Zulu War Collect...\n",
       "620459    {'id': 374386, 'name': 'Anglo-Zulu War Collect...\n",
       "620460    {'id': 374386, 'name': 'Anglo-Zulu War Collect...\n",
       "620461    {'id': 374386, 'name': 'Anglo-Zulu War Collect...\n",
       "Name: belongs_to_collection, Length: 620462, dtype: object"
      ]
     },
     "execution_count": 9,
     "metadata": {},
     "output_type": "execute_result"
    }
   ],
   "source": [
    "data.belongs_to_collection"
   ]
  },
  {
   "cell_type": "code",
   "execution_count": 10,
   "id": "46028bbd-1f55-4b79-b0e8-1f1479af139b",
   "metadata": {},
   "outputs": [],
   "source": [
    "model_data = data[['revenue', 'release_date_x', 'title', 'tomatometer_rating', 'tomatometer_top_critics_count', 'tomatometer_fresh_critics_count', \n",
    "                   'audience_rating', 'audience_count', 'budget', 'runtime', 'popularity', 'content_rating_G', 'content_rating_NC17', 'content_rating_NR', \n",
    "                   'content_rating_PG', 'content_rating_PG-13', 'content_rating_R']]\n",
    "\n",
    "# Add review content as sentiemnt analysis\n",
    "# Make belongs_to_collection into 0 and 1             "
   ]
  },
  {
   "cell_type": "code",
   "execution_count": 11,
   "id": "dadb0f9b-4560-4545-810e-49d53e8eda85",
   "metadata": {},
   "outputs": [],
   "source": [
    "movies_revenue = model_data.title.unique()"
   ]
  },
  {
   "cell_type": "code",
   "execution_count": 12,
   "id": "b60b4340-f81c-40a5-9900-5f2e3da7ff0d",
   "metadata": {},
   "outputs": [
    {
     "data": {
      "text/plain": [
       "(5301,)"
      ]
     },
     "execution_count": 12,
     "metadata": {},
     "output_type": "execute_result"
    }
   ],
   "source": [
    "movies_revenue.shape"
   ]
  },
  {
   "cell_type": "markdown",
   "id": "c15e5643-a9b7-4e22-a88c-603877b5601b",
   "metadata": {},
   "source": [
    "Step Two: Implement LDA"
   ]
  },
  {
   "cell_type": "code",
   "execution_count": 13,
   "id": "c3754cd8-c9ce-4b6b-9859-2154d7ab64fc",
   "metadata": {},
   "outputs": [],
   "source": [
    "reviews = pd.read_csv(\"rotten_tomatoes_critic_reviews.csv\")\n",
    "movies = pd.read_csv(\"rotten_tomatoes_movies.csv\")"
   ]
  },
  {
   "cell_type": "code",
   "execution_count": 14,
   "id": "6923d62c-cba2-41e9-b675-8e880ff5ff10",
   "metadata": {},
   "outputs": [],
   "source": [
    "class LDA_reviews:\n",
    "    def __init__(self, reviews,movies, N_topics=3, N_words = 10):\n",
    "        # the narrative reviews\n",
    "        self.reviews_full = reviews[reviews['review_content'].notna()]\n",
    "        self.reviews = reviews['review_content']\n",
    "        self.reviews = self.reviews[~self.reviews.isnull()]\n",
    "        # initialize variables\n",
    "        self.N_topics = N_topics\n",
    "        self.N_words = N_words\n",
    "        self.movies = movies\n",
    "        \n",
    "        # Get the word counts in the reviews\n",
    "        self.countVectorizer = CountVectorizer(stop_words='english')\n",
    "        self.termFrequency = self.countVectorizer.fit_transform(self.reviews)\n",
    "        self.Words = self.countVectorizer.get_feature_names()\n",
    "        \n",
    "    def Topics(self):\n",
    "        # Obtain the estimates for the LDA model\n",
    "\n",
    "        self.lda = LatentDirichletAllocation(n_components=self.N_topics)\n",
    "        self.lda.fit(self.termFrequency)\n",
    "        \n",
    "        # Obtain the list of the top N_words in the topics\n",
    "        topics = list()\n",
    "        for topic in self.lda.components_:\n",
    "            topics.append([self.Words[i] for i in topic.argsort()[:-self.N_words - 1:-1]])\n",
    "            \n",
    "        # Create a list of column names, Words, for the dataframe output\n",
    "        cols = list()\n",
    "        for i in range(self.N_words):\n",
    "            cols.append(\"Word \"+(str(i)))\n",
    "        \n",
    "        # Create a dataframe with the topic no. and the words in each topic \n",
    "        # output this dataframe\n",
    "        Topics_df = pd.DataFrame(topics, columns = cols)\n",
    "        Topics_df.index.name = \"Topics\"\n",
    "        return Topics_df  \n",
    "        \n",
    "    \n",
    "    def Predict_Topics(self, movie_title):\n",
    "        #find title in movie dataset, and then find corresponding rotten_tomatoes_link\n",
    "        #try:\n",
    "        idx_rotten = self.movies[self.movies['movie_title']==movie_title].index.values[0]\n",
    "        link = self.movies['rotten_tomatoes_link'][idx_rotten]\n",
    "        rotten_review = self.reviews_full['review_content'].where(self.reviews_full['rotten_tomatoes_link']==link)\n",
    "        rotten_review = rotten_review[~rotten_review.isnull()]\n",
    "        self.new_reviews = rotten_review\n",
    "\n",
    "        N_new_reviews = len(self.new_reviews)\n",
    "\n",
    "\n",
    "        # For each of the new narratives \n",
    "        # obtain the estimated probabilities for each of the topics\n",
    "        # in each of the new narratives as estimated by the LDA results\n",
    "        # on the training set \n",
    "        new_review_topics = list()\n",
    "        for review in self.new_reviews:\n",
    "            new_review_topics.append(self.lda.transform(self.countVectorizer.transform([review])))\n",
    "\n",
    "        # Recast the list of topic probabilities as an array of size number of no. pages X no. of topics\n",
    "        new_review_topics = np.array(new_review_topics).reshape(N_new_reviews, self.N_topics)\n",
    "        #maximum prob topic for each review\n",
    "        primary_topic = np.argmax(new_review_topics,axis=1)\n",
    "        topic_counts = np.bincount(primary_topic)/len(primary_topic)\n",
    "        # Create labels for the columns in the output dataframe\n",
    "        cols = list()\n",
    "        for i in range(self.N_topics):\n",
    "            cols.append(\"Topic \"+(str(i)))\n",
    "\n",
    "        New_Topics_df = pd.DataFrame(topic_counts)\n",
    "        return New_Topics_df\n",
    "        #except:\n",
    "            #print(\"Title is not in Rotten Tomatoes Database\")\n",
    "                "
   ]
  },
  {
   "cell_type": "code",
   "execution_count": 15,
   "id": "ef54c438-788c-4114-b7a9-db7ab9b83152",
   "metadata": {},
   "outputs": [
    {
     "name": "stderr",
     "output_type": "stream",
     "text": [
      "/Users/aubrey/opt/anaconda3/lib/python3.9/site-packages/sklearn/utils/deprecation.py:87: FutureWarning: Function get_feature_names is deprecated; get_feature_names is deprecated in 1.0 and will be removed in 1.2. Please use get_feature_names_out instead.\n",
      "  warnings.warn(msg, category=FutureWarning)\n"
     ]
    },
    {
     "data": {
      "text/html": [
       "<div>\n",
       "<style scoped>\n",
       "    .dataframe tbody tr th:only-of-type {\n",
       "        vertical-align: middle;\n",
       "    }\n",
       "\n",
       "    .dataframe tbody tr th {\n",
       "        vertical-align: top;\n",
       "    }\n",
       "\n",
       "    .dataframe thead th {\n",
       "        text-align: right;\n",
       "    }\n",
       "</style>\n",
       "<table border=\"1\" class=\"dataframe\">\n",
       "  <thead>\n",
       "    <tr style=\"text-align: right;\">\n",
       "      <th></th>\n",
       "      <th>Word 0</th>\n",
       "      <th>Word 1</th>\n",
       "      <th>Word 2</th>\n",
       "      <th>Word 3</th>\n",
       "      <th>Word 4</th>\n",
       "      <th>Word 5</th>\n",
       "      <th>Word 6</th>\n",
       "      <th>Word 7</th>\n",
       "      <th>Word 8</th>\n",
       "      <th>Word 9</th>\n",
       "    </tr>\n",
       "    <tr>\n",
       "      <th>Topics</th>\n",
       "      <th></th>\n",
       "      <th></th>\n",
       "      <th></th>\n",
       "      <th></th>\n",
       "      <th></th>\n",
       "      <th></th>\n",
       "      <th></th>\n",
       "      <th></th>\n",
       "      <th></th>\n",
       "      <th></th>\n",
       "    </tr>\n",
       "  </thead>\n",
       "  <tbody>\n",
       "    <tr>\n",
       "      <th>0</th>\n",
       "      <td>action</td>\n",
       "      <td>film</td>\n",
       "      <td>thriller</td>\n",
       "      <td>movie</td>\n",
       "      <td>plot</td>\n",
       "      <td>horror</td>\n",
       "      <td>war</td>\n",
       "      <td>violence</td>\n",
       "      <td>genre</td>\n",
       "      <td>story</td>\n",
       "    </tr>\n",
       "    <tr>\n",
       "      <th>1</th>\n",
       "      <td>thought</td>\n",
       "      <td>boring</td>\n",
       "      <td>bond</td>\n",
       "      <td>la</td>\n",
       "      <td>century</td>\n",
       "      <td>que</td>\n",
       "      <td>fast</td>\n",
       "      <td>moore</td>\n",
       "      <td>movie</td>\n",
       "      <td>watchable</td>\n",
       "    </tr>\n",
       "    <tr>\n",
       "      <th>2</th>\n",
       "      <td>film</td>\n",
       "      <td>characters</td>\n",
       "      <td>character</td>\n",
       "      <td>story</td>\n",
       "      <td>performances</td>\n",
       "      <td>emotional</td>\n",
       "      <td>movie</td>\n",
       "      <td>plot</td>\n",
       "      <td>makes</td>\n",
       "      <td>work</td>\n",
       "    </tr>\n",
       "    <tr>\n",
       "      <th>3</th>\n",
       "      <td>performance</td>\n",
       "      <td>film</td>\n",
       "      <td>movie</td>\n",
       "      <td>age</td>\n",
       "      <td>coming</td>\n",
       "      <td>role</td>\n",
       "      <td>gives</td>\n",
       "      <td>scene</td>\n",
       "      <td>time</td>\n",
       "      <td>performances</td>\n",
       "    </tr>\n",
       "    <tr>\n",
       "      <th>4</th>\n",
       "      <td>director</td>\n",
       "      <td>film</td>\n",
       "      <td>best</td>\n",
       "      <td>writer</td>\n",
       "      <td>films</td>\n",
       "      <td>john</td>\n",
       "      <td>debut</td>\n",
       "      <td>american</td>\n",
       "      <td>feature</td>\n",
       "      <td>work</td>\n",
       "    </tr>\n",
       "    <tr>\n",
       "      <th>5</th>\n",
       "      <td>film</td>\n",
       "      <td>review</td>\n",
       "      <td>spanish</td>\n",
       "      <td>new</td>\n",
       "      <td>story</td>\n",
       "      <td>life</td>\n",
       "      <td>way</td>\n",
       "      <td>movie</td>\n",
       "      <td>beautiful</td>\n",
       "      <td>great</td>\n",
       "    </tr>\n",
       "    <tr>\n",
       "      <th>6</th>\n",
       "      <td>story</td>\n",
       "      <td>film</td>\n",
       "      <td>love</td>\n",
       "      <td>movie</td>\n",
       "      <td>life</td>\n",
       "      <td>people</td>\n",
       "      <td>man</td>\n",
       "      <td>special</td>\n",
       "      <td>world</td>\n",
       "      <td>human</td>\n",
       "    </tr>\n",
       "    <tr>\n",
       "      <th>7</th>\n",
       "      <td>movie</td>\n",
       "      <td>like</td>\n",
       "      <td>good</td>\n",
       "      <td>just</td>\n",
       "      <td>best</td>\n",
       "      <td>fun</td>\n",
       "      <td>movies</td>\n",
       "      <td>old</td>\n",
       "      <td>film</td>\n",
       "      <td>bad</td>\n",
       "    </tr>\n",
       "    <tr>\n",
       "      <th>8</th>\n",
       "      <td>comedy</td>\n",
       "      <td>funny</td>\n",
       "      <td>romantic</td>\n",
       "      <td>cast</td>\n",
       "      <td>movie</td>\n",
       "      <td>laughs</td>\n",
       "      <td>humor</td>\n",
       "      <td>script</td>\n",
       "      <td>film</td>\n",
       "      <td>fun</td>\n",
       "    </tr>\n",
       "    <tr>\n",
       "      <th>9</th>\n",
       "      <td>like</td>\n",
       "      <td>film</td>\n",
       "      <td>movie</td>\n",
       "      <td>don</td>\n",
       "      <td>just</td>\n",
       "      <td>ve</td>\n",
       "      <td>ll</td>\n",
       "      <td>horror</td>\n",
       "      <td>fans</td>\n",
       "      <td>seen</td>\n",
       "    </tr>\n",
       "  </tbody>\n",
       "</table>\n",
       "</div>"
      ],
      "text/plain": [
       "             Word 0      Word 1     Word 2  Word 3        Word 4     Word 5  \\\n",
       "Topics                                                                        \n",
       "0            action        film   thriller   movie          plot     horror   \n",
       "1           thought      boring       bond      la       century        que   \n",
       "2              film  characters  character   story  performances  emotional   \n",
       "3       performance        film      movie     age        coming       role   \n",
       "4          director        film       best  writer         films       john   \n",
       "5              film      review    spanish     new         story       life   \n",
       "6             story        film       love   movie          life     people   \n",
       "7             movie        like       good    just          best        fun   \n",
       "8            comedy       funny   romantic    cast         movie     laughs   \n",
       "9              like        film      movie     don          just         ve   \n",
       "\n",
       "        Word 6    Word 7     Word 8        Word 9  \n",
       "Topics                                             \n",
       "0          war  violence      genre         story  \n",
       "1         fast     moore      movie     watchable  \n",
       "2        movie      plot      makes          work  \n",
       "3        gives     scene       time  performances  \n",
       "4        debut  american    feature          work  \n",
       "5          way     movie  beautiful         great  \n",
       "6          man   special      world         human  \n",
       "7       movies       old       film           bad  \n",
       "8        humor    script       film           fun  \n",
       "9           ll    horror       fans          seen  "
      ]
     },
     "execution_count": 15,
     "metadata": {},
     "output_type": "execute_result"
    }
   ],
   "source": [
    "lda_reviews = LDA_reviews(reviews = reviews,movies=movies, N_topics = 10, N_words = 10)\n",
    "lda_reviews.Topics()"
   ]
  },
  {
   "cell_type": "code",
   "execution_count": 16,
   "id": "8ac80b06-0332-4ba8-a30f-ebb5f2eac7c8",
   "metadata": {},
   "outputs": [
    {
     "data": {
      "text/html": [
       "<div>\n",
       "<style scoped>\n",
       "    .dataframe tbody tr th:only-of-type {\n",
       "        vertical-align: middle;\n",
       "    }\n",
       "\n",
       "    .dataframe tbody tr th {\n",
       "        vertical-align: top;\n",
       "    }\n",
       "\n",
       "    .dataframe thead th {\n",
       "        text-align: right;\n",
       "    }\n",
       "</style>\n",
       "<table border=\"1\" class=\"dataframe\">\n",
       "  <thead>\n",
       "    <tr style=\"text-align: right;\">\n",
       "      <th></th>\n",
       "      <th>0</th>\n",
       "      <th>1</th>\n",
       "      <th>2</th>\n",
       "      <th>3</th>\n",
       "      <th>4</th>\n",
       "      <th>5</th>\n",
       "      <th>6</th>\n",
       "      <th>7</th>\n",
       "      <th>8</th>\n",
       "      <th>9</th>\n",
       "    </tr>\n",
       "  </thead>\n",
       "  <tbody>\n",
       "    <tr>\n",
       "      <th>0</th>\n",
       "      <td>0.0625</td>\n",
       "      <td>0.0</td>\n",
       "      <td>0.03125</td>\n",
       "      <td>0.0625</td>\n",
       "      <td>0.1875</td>\n",
       "      <td>0.09375</td>\n",
       "      <td>0.09375</td>\n",
       "      <td>0.125</td>\n",
       "      <td>0.28125</td>\n",
       "      <td>0.0625</td>\n",
       "    </tr>\n",
       "  </tbody>\n",
       "</table>\n",
       "</div>"
      ],
      "text/plain": [
       "        0    1        2       3       4        5        6      7        8  \\\n",
       "0  0.0625  0.0  0.03125  0.0625  0.1875  0.09375  0.09375  0.125  0.28125   \n",
       "\n",
       "        9  \n",
       "0  0.0625  "
      ]
     },
     "execution_count": 16,
     "metadata": {},
     "output_type": "execute_result"
    }
   ],
   "source": [
    "lda_reviews.Predict_Topics(\"Hairspray\").T\n"
   ]
  },
  {
   "cell_type": "code",
   "execution_count": 17,
   "id": "9ddf3082-0c42-45ea-b913-86adf1ecee2e",
   "metadata": {},
   "outputs": [],
   "source": [
    "lda_data = pd.DataFrame(columns=['Topic 1','Topic 2','Topic 3','Topic 4','Topic 5','Topic 6','Topic 7', 'Topic 8','Topic 9','Topic 10'])\n",
    "for title in movies_revenue:\n",
    "    lda_prediction = lda_reviews.Predict_Topics(title).T\n",
    "    if len(lda_prediction!=10):\n",
    "        for i in range(len(lda_prediction.columns),10):\n",
    "            lda_prediction[str(i-1)]=0\n",
    "    lda_prediction.columns = ['Topic 1','Topic 2','Topic 3','Topic 4','Topic 5','Topic 6','Topic 7', 'Topic 8','Topic 9','Topic 10']\n",
    "    lda_data = pd.concat([lda_data,lda_prediction]).reset_index(drop=True)\n",
    "    \n",
    "lda_data['title'] = movies_revenue"
   ]
  },
  {
   "cell_type": "code",
   "execution_count": 18,
   "id": "9e018c0c-3df0-4f4a-a294-136e6d5370d3",
   "metadata": {},
   "outputs": [
    {
     "data": {
      "text/html": [
       "<div>\n",
       "<style scoped>\n",
       "    .dataframe tbody tr th:only-of-type {\n",
       "        vertical-align: middle;\n",
       "    }\n",
       "\n",
       "    .dataframe tbody tr th {\n",
       "        vertical-align: top;\n",
       "    }\n",
       "\n",
       "    .dataframe thead th {\n",
       "        text-align: right;\n",
       "    }\n",
       "</style>\n",
       "<table border=\"1\" class=\"dataframe\">\n",
       "  <thead>\n",
       "    <tr style=\"text-align: right;\">\n",
       "      <th></th>\n",
       "      <th>Topic 1</th>\n",
       "      <th>Topic 2</th>\n",
       "      <th>Topic 3</th>\n",
       "      <th>Topic 4</th>\n",
       "      <th>Topic 5</th>\n",
       "      <th>Topic 6</th>\n",
       "      <th>Topic 7</th>\n",
       "      <th>Topic 8</th>\n",
       "      <th>Topic 9</th>\n",
       "      <th>Topic 10</th>\n",
       "      <th>title</th>\n",
       "    </tr>\n",
       "  </thead>\n",
       "  <tbody>\n",
       "    <tr>\n",
       "      <th>0</th>\n",
       "      <td>0.297297</td>\n",
       "      <td>0.027027</td>\n",
       "      <td>0.040541</td>\n",
       "      <td>0.033784</td>\n",
       "      <td>0.02027</td>\n",
       "      <td>0.040541</td>\n",
       "      <td>0.047297</td>\n",
       "      <td>0.371622</td>\n",
       "      <td>0.047297</td>\n",
       "      <td>0.074324</td>\n",
       "      <td>Percy Jackson &amp; the Olympians: The Lightning T...</td>\n",
       "    </tr>\n",
       "    <tr>\n",
       "      <th>1</th>\n",
       "      <td>0.066667</td>\n",
       "      <td>0.0</td>\n",
       "      <td>0.066667</td>\n",
       "      <td>0.066667</td>\n",
       "      <td>0.066667</td>\n",
       "      <td>0.0</td>\n",
       "      <td>0.266667</td>\n",
       "      <td>0.066667</td>\n",
       "      <td>0.333333</td>\n",
       "      <td>0.066667</td>\n",
       "      <td>10</td>\n",
       "    </tr>\n",
       "    <tr>\n",
       "      <th>2</th>\n",
       "      <td>0.16</td>\n",
       "      <td>0.04</td>\n",
       "      <td>0.2</td>\n",
       "      <td>0.12</td>\n",
       "      <td>0.16</td>\n",
       "      <td>0.0</td>\n",
       "      <td>0.12</td>\n",
       "      <td>0.16</td>\n",
       "      <td>0.0</td>\n",
       "      <td>0.04</td>\n",
       "      <td>3:10 to Yuma</td>\n",
       "    </tr>\n",
       "    <tr>\n",
       "      <th>3</th>\n",
       "      <td>0.230769</td>\n",
       "      <td>0.076923</td>\n",
       "      <td>0.153846</td>\n",
       "      <td>0.0</td>\n",
       "      <td>0.0</td>\n",
       "      <td>0.076923</td>\n",
       "      <td>0.076923</td>\n",
       "      <td>0.0</td>\n",
       "      <td>0.076923</td>\n",
       "      <td>0.307692</td>\n",
       "      <td>Dark Water</td>\n",
       "    </tr>\n",
       "    <tr>\n",
       "      <th>4</th>\n",
       "      <td>0.0875</td>\n",
       "      <td>0.0375</td>\n",
       "      <td>0.1875</td>\n",
       "      <td>0.075</td>\n",
       "      <td>0.0625</td>\n",
       "      <td>0.0125</td>\n",
       "      <td>0.225</td>\n",
       "      <td>0.125</td>\n",
       "      <td>0.075</td>\n",
       "      <td>0.1125</td>\n",
       "      <td>The Lost City</td>\n",
       "    </tr>\n",
       "    <tr>\n",
       "      <th>...</th>\n",
       "      <td>...</td>\n",
       "      <td>...</td>\n",
       "      <td>...</td>\n",
       "      <td>...</td>\n",
       "      <td>...</td>\n",
       "      <td>...</td>\n",
       "      <td>...</td>\n",
       "      <td>...</td>\n",
       "      <td>...</td>\n",
       "      <td>...</td>\n",
       "      <td>...</td>\n",
       "    </tr>\n",
       "    <tr>\n",
       "      <th>5296</th>\n",
       "      <td>0.022388</td>\n",
       "      <td>0.014925</td>\n",
       "      <td>0.059701</td>\n",
       "      <td>0.007463</td>\n",
       "      <td>0.029851</td>\n",
       "      <td>0.022388</td>\n",
       "      <td>0.059701</td>\n",
       "      <td>0.141791</td>\n",
       "      <td>0.529851</td>\n",
       "      <td>0.11194</td>\n",
       "      <td>Zoolander</td>\n",
       "    </tr>\n",
       "    <tr>\n",
       "      <th>5297</th>\n",
       "      <td>0.056034</td>\n",
       "      <td>0.00431</td>\n",
       "      <td>0.017241</td>\n",
       "      <td>0.008621</td>\n",
       "      <td>0.012931</td>\n",
       "      <td>0.047414</td>\n",
       "      <td>0.034483</td>\n",
       "      <td>0.24569</td>\n",
       "      <td>0.443966</td>\n",
       "      <td>0.12931</td>\n",
       "      <td>Zoolander 2</td>\n",
       "    </tr>\n",
       "    <tr>\n",
       "      <th>5298</th>\n",
       "      <td>0.147059</td>\n",
       "      <td>0.014706</td>\n",
       "      <td>0.014706</td>\n",
       "      <td>0.058824</td>\n",
       "      <td>0.014706</td>\n",
       "      <td>0.014706</td>\n",
       "      <td>0.044118</td>\n",
       "      <td>0.411765</td>\n",
       "      <td>0.102941</td>\n",
       "      <td>0.176471</td>\n",
       "      <td>Zoom</td>\n",
       "    </tr>\n",
       "    <tr>\n",
       "      <th>5299</th>\n",
       "      <td>0.085616</td>\n",
       "      <td>0.010274</td>\n",
       "      <td>0.037671</td>\n",
       "      <td>0.013699</td>\n",
       "      <td>0.017123</td>\n",
       "      <td>0.315068</td>\n",
       "      <td>0.140411</td>\n",
       "      <td>0.202055</td>\n",
       "      <td>0.126712</td>\n",
       "      <td>0.05137</td>\n",
       "      <td>Zootopia</td>\n",
       "    </tr>\n",
       "    <tr>\n",
       "      <th>5300</th>\n",
       "      <td>0.294118</td>\n",
       "      <td>0.058824</td>\n",
       "      <td>0.117647</td>\n",
       "      <td>0.058824</td>\n",
       "      <td>0.117647</td>\n",
       "      <td>0.117647</td>\n",
       "      <td>0.117647</td>\n",
       "      <td>0.0</td>\n",
       "      <td>0.0</td>\n",
       "      <td>0.117647</td>\n",
       "      <td>Zulu</td>\n",
       "    </tr>\n",
       "  </tbody>\n",
       "</table>\n",
       "<p>5301 rows × 11 columns</p>\n",
       "</div>"
      ],
      "text/plain": [
       "       Topic 1   Topic 2   Topic 3   Topic 4   Topic 5   Topic 6   Topic 7  \\\n",
       "0     0.297297  0.027027  0.040541  0.033784   0.02027  0.040541  0.047297   \n",
       "1     0.066667       0.0  0.066667  0.066667  0.066667       0.0  0.266667   \n",
       "2         0.16      0.04       0.2      0.12      0.16       0.0      0.12   \n",
       "3     0.230769  0.076923  0.153846       0.0       0.0  0.076923  0.076923   \n",
       "4       0.0875    0.0375    0.1875     0.075    0.0625    0.0125     0.225   \n",
       "...        ...       ...       ...       ...       ...       ...       ...   \n",
       "5296  0.022388  0.014925  0.059701  0.007463  0.029851  0.022388  0.059701   \n",
       "5297  0.056034   0.00431  0.017241  0.008621  0.012931  0.047414  0.034483   \n",
       "5298  0.147059  0.014706  0.014706  0.058824  0.014706  0.014706  0.044118   \n",
       "5299  0.085616  0.010274  0.037671  0.013699  0.017123  0.315068  0.140411   \n",
       "5300  0.294118  0.058824  0.117647  0.058824  0.117647  0.117647  0.117647   \n",
       "\n",
       "       Topic 8   Topic 9  Topic 10  \\\n",
       "0     0.371622  0.047297  0.074324   \n",
       "1     0.066667  0.333333  0.066667   \n",
       "2         0.16       0.0      0.04   \n",
       "3          0.0  0.076923  0.307692   \n",
       "4        0.125     0.075    0.1125   \n",
       "...        ...       ...       ...   \n",
       "5296  0.141791  0.529851   0.11194   \n",
       "5297   0.24569  0.443966   0.12931   \n",
       "5298  0.411765  0.102941  0.176471   \n",
       "5299  0.202055  0.126712   0.05137   \n",
       "5300       0.0       0.0  0.117647   \n",
       "\n",
       "                                                  title  \n",
       "0     Percy Jackson & the Olympians: The Lightning T...  \n",
       "1                                                    10  \n",
       "2                                          3:10 to Yuma  \n",
       "3                                            Dark Water  \n",
       "4                                         The Lost City  \n",
       "...                                                 ...  \n",
       "5296                                          Zoolander  \n",
       "5297                                        Zoolander 2  \n",
       "5298                                               Zoom  \n",
       "5299                                           Zootopia  \n",
       "5300                                               Zulu  \n",
       "\n",
       "[5301 rows x 11 columns]"
      ]
     },
     "execution_count": 18,
     "metadata": {},
     "output_type": "execute_result"
    }
   ],
   "source": [
    "lda_data"
   ]
  },
  {
   "cell_type": "code",
   "execution_count": 19,
   "id": "d522f8ea-9a7c-44dd-b368-e37420046190",
   "metadata": {},
   "outputs": [],
   "source": [
    "model_data = model_data.drop_duplicates().reset_index(drop=True)"
   ]
  },
  {
   "cell_type": "code",
   "execution_count": 20,
   "id": "dabfbdc5-ad68-490f-8f6e-71d40442b822",
   "metadata": {},
   "outputs": [],
   "source": [
    "model_data = model_data.sort_values('release_date_x', ascending=False).drop_duplicates('title').sort_index()"
   ]
  },
  {
   "cell_type": "code",
   "execution_count": 96,
   "id": "1583942b-ae40-4a7e-9a71-80a0c387a50d",
   "metadata": {},
   "outputs": [],
   "source": [
    "movies_revenue = pd.merge(lda_data, model_data, on=['title'])"
   ]
  },
  {
   "cell_type": "code",
   "execution_count": 97,
   "id": "3fa92b34-d7dc-4780-926e-e660d41aa989",
   "metadata": {},
   "outputs": [
    {
     "data": {
      "text/html": [
       "<div>\n",
       "<style scoped>\n",
       "    .dataframe tbody tr th:only-of-type {\n",
       "        vertical-align: middle;\n",
       "    }\n",
       "\n",
       "    .dataframe tbody tr th {\n",
       "        vertical-align: top;\n",
       "    }\n",
       "\n",
       "    .dataframe thead th {\n",
       "        text-align: right;\n",
       "    }\n",
       "</style>\n",
       "<table border=\"1\" class=\"dataframe\">\n",
       "  <thead>\n",
       "    <tr style=\"text-align: right;\">\n",
       "      <th></th>\n",
       "      <th>Topic 1</th>\n",
       "      <th>Topic 2</th>\n",
       "      <th>Topic 3</th>\n",
       "      <th>Topic 4</th>\n",
       "      <th>Topic 5</th>\n",
       "      <th>Topic 6</th>\n",
       "      <th>Topic 7</th>\n",
       "      <th>Topic 8</th>\n",
       "      <th>Topic 9</th>\n",
       "      <th>Topic 10</th>\n",
       "      <th>...</th>\n",
       "      <th>audience_count</th>\n",
       "      <th>budget</th>\n",
       "      <th>runtime</th>\n",
       "      <th>popularity</th>\n",
       "      <th>content_rating_G</th>\n",
       "      <th>content_rating_NC17</th>\n",
       "      <th>content_rating_NR</th>\n",
       "      <th>content_rating_PG</th>\n",
       "      <th>content_rating_PG-13</th>\n",
       "      <th>content_rating_R</th>\n",
       "    </tr>\n",
       "  </thead>\n",
       "  <tbody>\n",
       "    <tr>\n",
       "      <th>0</th>\n",
       "      <td>0.297297</td>\n",
       "      <td>0.027027</td>\n",
       "      <td>0.040541</td>\n",
       "      <td>0.033784</td>\n",
       "      <td>0.02027</td>\n",
       "      <td>0.040541</td>\n",
       "      <td>0.047297</td>\n",
       "      <td>0.371622</td>\n",
       "      <td>0.047297</td>\n",
       "      <td>0.074324</td>\n",
       "      <td>...</td>\n",
       "      <td>254421.0</td>\n",
       "      <td>95000000</td>\n",
       "      <td>118.0</td>\n",
       "      <td>9.785895</td>\n",
       "      <td>0</td>\n",
       "      <td>0</td>\n",
       "      <td>0</td>\n",
       "      <td>1</td>\n",
       "      <td>0</td>\n",
       "      <td>0</td>\n",
       "    </tr>\n",
       "    <tr>\n",
       "      <th>1</th>\n",
       "      <td>0.066667</td>\n",
       "      <td>0.0</td>\n",
       "      <td>0.066667</td>\n",
       "      <td>0.066667</td>\n",
       "      <td>0.066667</td>\n",
       "      <td>0.0</td>\n",
       "      <td>0.266667</td>\n",
       "      <td>0.066667</td>\n",
       "      <td>0.333333</td>\n",
       "      <td>0.066667</td>\n",
       "      <td>...</td>\n",
       "      <td>14684.0</td>\n",
       "      <td>0</td>\n",
       "      <td>122.0</td>\n",
       "      <td>8.539083</td>\n",
       "      <td>0</td>\n",
       "      <td>0</td>\n",
       "      <td>0</td>\n",
       "      <td>0</td>\n",
       "      <td>0</td>\n",
       "      <td>1</td>\n",
       "    </tr>\n",
       "    <tr>\n",
       "      <th>2</th>\n",
       "      <td>0.16</td>\n",
       "      <td>0.04</td>\n",
       "      <td>0.2</td>\n",
       "      <td>0.12</td>\n",
       "      <td>0.16</td>\n",
       "      <td>0.0</td>\n",
       "      <td>0.12</td>\n",
       "      <td>0.16</td>\n",
       "      <td>0.0</td>\n",
       "      <td>0.04</td>\n",
       "      <td>...</td>\n",
       "      <td>394430.0</td>\n",
       "      <td>55000000</td>\n",
       "      <td>122.0</td>\n",
       "      <td>18.079094</td>\n",
       "      <td>0</td>\n",
       "      <td>0</td>\n",
       "      <td>0</td>\n",
       "      <td>0</td>\n",
       "      <td>0</td>\n",
       "      <td>1</td>\n",
       "    </tr>\n",
       "    <tr>\n",
       "      <th>3</th>\n",
       "      <td>0.230769</td>\n",
       "      <td>0.076923</td>\n",
       "      <td>0.153846</td>\n",
       "      <td>0.0</td>\n",
       "      <td>0.0</td>\n",
       "      <td>0.076923</td>\n",
       "      <td>0.076923</td>\n",
       "      <td>0.0</td>\n",
       "      <td>0.076923</td>\n",
       "      <td>0.307692</td>\n",
       "      <td>...</td>\n",
       "      <td>154837.0</td>\n",
       "      <td>30000000</td>\n",
       "      <td>105.0</td>\n",
       "      <td>6.53565</td>\n",
       "      <td>0</td>\n",
       "      <td>0</td>\n",
       "      <td>0</td>\n",
       "      <td>0</td>\n",
       "      <td>1</td>\n",
       "      <td>0</td>\n",
       "    </tr>\n",
       "    <tr>\n",
       "      <th>4</th>\n",
       "      <td>0.0875</td>\n",
       "      <td>0.0375</td>\n",
       "      <td>0.1875</td>\n",
       "      <td>0.075</td>\n",
       "      <td>0.0625</td>\n",
       "      <td>0.0125</td>\n",
       "      <td>0.225</td>\n",
       "      <td>0.125</td>\n",
       "      <td>0.075</td>\n",
       "      <td>0.1125</td>\n",
       "      <td>...</td>\n",
       "      <td>25944.0</td>\n",
       "      <td>9600000</td>\n",
       "      <td>144.0</td>\n",
       "      <td>2.637004</td>\n",
       "      <td>0</td>\n",
       "      <td>0</td>\n",
       "      <td>0</td>\n",
       "      <td>0</td>\n",
       "      <td>0</td>\n",
       "      <td>1</td>\n",
       "    </tr>\n",
       "    <tr>\n",
       "      <th>...</th>\n",
       "      <td>...</td>\n",
       "      <td>...</td>\n",
       "      <td>...</td>\n",
       "      <td>...</td>\n",
       "      <td>...</td>\n",
       "      <td>...</td>\n",
       "      <td>...</td>\n",
       "      <td>...</td>\n",
       "      <td>...</td>\n",
       "      <td>...</td>\n",
       "      <td>...</td>\n",
       "      <td>...</td>\n",
       "      <td>...</td>\n",
       "      <td>...</td>\n",
       "      <td>...</td>\n",
       "      <td>...</td>\n",
       "      <td>...</td>\n",
       "      <td>...</td>\n",
       "      <td>...</td>\n",
       "      <td>...</td>\n",
       "      <td>...</td>\n",
       "    </tr>\n",
       "    <tr>\n",
       "      <th>5296</th>\n",
       "      <td>0.022388</td>\n",
       "      <td>0.014925</td>\n",
       "      <td>0.059701</td>\n",
       "      <td>0.007463</td>\n",
       "      <td>0.029851</td>\n",
       "      <td>0.022388</td>\n",
       "      <td>0.059701</td>\n",
       "      <td>0.141791</td>\n",
       "      <td>0.529851</td>\n",
       "      <td>0.11194</td>\n",
       "      <td>...</td>\n",
       "      <td>944800.0</td>\n",
       "      <td>28000000</td>\n",
       "      <td>89.0</td>\n",
       "      <td>10.40782</td>\n",
       "      <td>0</td>\n",
       "      <td>0</td>\n",
       "      <td>0</td>\n",
       "      <td>0</td>\n",
       "      <td>1</td>\n",
       "      <td>0</td>\n",
       "    </tr>\n",
       "    <tr>\n",
       "      <th>5297</th>\n",
       "      <td>0.056034</td>\n",
       "      <td>0.00431</td>\n",
       "      <td>0.017241</td>\n",
       "      <td>0.008621</td>\n",
       "      <td>0.012931</td>\n",
       "      <td>0.047414</td>\n",
       "      <td>0.034483</td>\n",
       "      <td>0.24569</td>\n",
       "      <td>0.443966</td>\n",
       "      <td>0.12931</td>\n",
       "      <td>...</td>\n",
       "      <td>41745.0</td>\n",
       "      <td>50000000</td>\n",
       "      <td>100.0</td>\n",
       "      <td>10.155109</td>\n",
       "      <td>0</td>\n",
       "      <td>0</td>\n",
       "      <td>0</td>\n",
       "      <td>0</td>\n",
       "      <td>1</td>\n",
       "      <td>0</td>\n",
       "    </tr>\n",
       "    <tr>\n",
       "      <th>5298</th>\n",
       "      <td>0.147059</td>\n",
       "      <td>0.014706</td>\n",
       "      <td>0.014706</td>\n",
       "      <td>0.058824</td>\n",
       "      <td>0.014706</td>\n",
       "      <td>0.014706</td>\n",
       "      <td>0.044118</td>\n",
       "      <td>0.411765</td>\n",
       "      <td>0.102941</td>\n",
       "      <td>0.176471</td>\n",
       "      <td>...</td>\n",
       "      <td>11369.0</td>\n",
       "      <td>35000000</td>\n",
       "      <td>83.0</td>\n",
       "      <td>11.967444</td>\n",
       "      <td>0</td>\n",
       "      <td>0</td>\n",
       "      <td>0</td>\n",
       "      <td>1</td>\n",
       "      <td>0</td>\n",
       "      <td>0</td>\n",
       "    </tr>\n",
       "    <tr>\n",
       "      <th>5299</th>\n",
       "      <td>0.085616</td>\n",
       "      <td>0.010274</td>\n",
       "      <td>0.037671</td>\n",
       "      <td>0.013699</td>\n",
       "      <td>0.017123</td>\n",
       "      <td>0.315068</td>\n",
       "      <td>0.140411</td>\n",
       "      <td>0.202055</td>\n",
       "      <td>0.126712</td>\n",
       "      <td>0.05137</td>\n",
       "      <td>...</td>\n",
       "      <td>101511.0</td>\n",
       "      <td>150000000</td>\n",
       "      <td>108.0</td>\n",
       "      <td>26.024868</td>\n",
       "      <td>0</td>\n",
       "      <td>0</td>\n",
       "      <td>0</td>\n",
       "      <td>1</td>\n",
       "      <td>0</td>\n",
       "      <td>0</td>\n",
       "    </tr>\n",
       "    <tr>\n",
       "      <th>5300</th>\n",
       "      <td>0.294118</td>\n",
       "      <td>0.058824</td>\n",
       "      <td>0.117647</td>\n",
       "      <td>0.058824</td>\n",
       "      <td>0.117647</td>\n",
       "      <td>0.117647</td>\n",
       "      <td>0.117647</td>\n",
       "      <td>0.0</td>\n",
       "      <td>0.0</td>\n",
       "      <td>0.117647</td>\n",
       "      <td>...</td>\n",
       "      <td>30193.0</td>\n",
       "      <td>3500000</td>\n",
       "      <td>138.0</td>\n",
       "      <td>11.604242</td>\n",
       "      <td>0</td>\n",
       "      <td>0</td>\n",
       "      <td>0</td>\n",
       "      <td>1</td>\n",
       "      <td>0</td>\n",
       "      <td>0</td>\n",
       "    </tr>\n",
       "  </tbody>\n",
       "</table>\n",
       "<p>5301 rows × 27 columns</p>\n",
       "</div>"
      ],
      "text/plain": [
       "       Topic 1   Topic 2   Topic 3   Topic 4   Topic 5   Topic 6   Topic 7  \\\n",
       "0     0.297297  0.027027  0.040541  0.033784   0.02027  0.040541  0.047297   \n",
       "1     0.066667       0.0  0.066667  0.066667  0.066667       0.0  0.266667   \n",
       "2         0.16      0.04       0.2      0.12      0.16       0.0      0.12   \n",
       "3     0.230769  0.076923  0.153846       0.0       0.0  0.076923  0.076923   \n",
       "4       0.0875    0.0375    0.1875     0.075    0.0625    0.0125     0.225   \n",
       "...        ...       ...       ...       ...       ...       ...       ...   \n",
       "5296  0.022388  0.014925  0.059701  0.007463  0.029851  0.022388  0.059701   \n",
       "5297  0.056034   0.00431  0.017241  0.008621  0.012931  0.047414  0.034483   \n",
       "5298  0.147059  0.014706  0.014706  0.058824  0.014706  0.014706  0.044118   \n",
       "5299  0.085616  0.010274  0.037671  0.013699  0.017123  0.315068  0.140411   \n",
       "5300  0.294118  0.058824  0.117647  0.058824  0.117647  0.117647  0.117647   \n",
       "\n",
       "       Topic 8   Topic 9  Topic 10  ... audience_count     budget runtime  \\\n",
       "0     0.371622  0.047297  0.074324  ...       254421.0   95000000   118.0   \n",
       "1     0.066667  0.333333  0.066667  ...        14684.0          0   122.0   \n",
       "2         0.16       0.0      0.04  ...       394430.0   55000000   122.0   \n",
       "3          0.0  0.076923  0.307692  ...       154837.0   30000000   105.0   \n",
       "4        0.125     0.075    0.1125  ...        25944.0    9600000   144.0   \n",
       "...        ...       ...       ...  ...            ...        ...     ...   \n",
       "5296  0.141791  0.529851   0.11194  ...       944800.0   28000000    89.0   \n",
       "5297   0.24569  0.443966   0.12931  ...        41745.0   50000000   100.0   \n",
       "5298  0.411765  0.102941  0.176471  ...        11369.0   35000000    83.0   \n",
       "5299  0.202055  0.126712   0.05137  ...       101511.0  150000000   108.0   \n",
       "5300       0.0       0.0  0.117647  ...        30193.0    3500000   138.0   \n",
       "\n",
       "      popularity  content_rating_G  content_rating_NC17  content_rating_NR  \\\n",
       "0       9.785895                 0                    0                  0   \n",
       "1       8.539083                 0                    0                  0   \n",
       "2      18.079094                 0                    0                  0   \n",
       "3        6.53565                 0                    0                  0   \n",
       "4       2.637004                 0                    0                  0   \n",
       "...          ...               ...                  ...                ...   \n",
       "5296    10.40782                 0                    0                  0   \n",
       "5297   10.155109                 0                    0                  0   \n",
       "5298   11.967444                 0                    0                  0   \n",
       "5299   26.024868                 0                    0                  0   \n",
       "5300   11.604242                 0                    0                  0   \n",
       "\n",
       "      content_rating_PG content_rating_PG-13  content_rating_R  \n",
       "0                     1                    0                 0  \n",
       "1                     0                    0                 1  \n",
       "2                     0                    0                 1  \n",
       "3                     0                    1                 0  \n",
       "4                     0                    0                 1  \n",
       "...                 ...                  ...               ...  \n",
       "5296                  0                    1                 0  \n",
       "5297                  0                    1                 0  \n",
       "5298                  1                    0                 0  \n",
       "5299                  1                    0                 0  \n",
       "5300                  1                    0                 0  \n",
       "\n",
       "[5301 rows x 27 columns]"
      ]
     },
     "execution_count": 97,
     "metadata": {},
     "output_type": "execute_result"
    }
   ],
   "source": [
    "movies_revenue"
   ]
  },
  {
   "cell_type": "code",
   "execution_count": 23,
   "id": "ea2c32db-29db-4204-a87e-5337f16fb942",
   "metadata": {},
   "outputs": [],
   "source": [
    "movies_revenue.to_csv(\"combined_movie_data\")"
   ]
  },
  {
   "cell_type": "code",
   "execution_count": 24,
   "id": "7b7cc21e-5f1c-4fec-b509-1435b7b3472d",
   "metadata": {},
   "outputs": [
    {
     "data": {
      "text/plain": [
       "Index(['Topic 1', 'Topic 2', 'Topic 3', 'Topic 4', 'Topic 5', 'Topic 6',\n",
       "       'Topic 7', 'Topic 8', 'Topic 9', 'Topic 10', 'title', 'revenue',\n",
       "       'release_date_x', 'tomatometer_rating', 'tomatometer_top_critics_count',\n",
       "       'tomatometer_fresh_critics_count', 'audience_rating', 'audience_count',\n",
       "       'budget', 'runtime', 'popularity', 'content_rating_G',\n",
       "       'content_rating_NC17', 'content_rating_NR', 'content_rating_PG',\n",
       "       'content_rating_PG-13', 'content_rating_R'],\n",
       "      dtype='object')"
      ]
     },
     "execution_count": 24,
     "metadata": {},
     "output_type": "execute_result"
    }
   ],
   "source": [
    "movies_revenue.columns"
   ]
  },
  {
   "cell_type": "code",
   "execution_count": 98,
   "id": "893e9502-8e6f-49d4-9212-0b6fa68b9c73",
   "metadata": {},
   "outputs": [],
   "source": [
    "#drop title, audience_rating, audience_count popularity\n",
    "\n",
    "movies_revenue = movies_revenue.drop(['title','audience_rating','audience_count','popularity','release_date_x','content_rating_NC17'],axis=1)"
   ]
  },
  {
   "cell_type": "code",
   "execution_count": 27,
   "id": "c8bc4c83-263a-43ec-bb2c-f5cbd00ecec1",
   "metadata": {},
   "outputs": [],
   "source": [
    "# movies_revenue['Topic 1'] = movies_revenue['Topic 1'].astype(str).astype(float)\n",
    "# movies_revenue['Topic 2'] = movies_revenue['Topic 2'].astype(str).astype(float)\n",
    "# movies_revenue['Topic 3'] = movies_revenue['Topic 3'].astype(str).astype(float)\n",
    "# movies_revenue['Topic 4'] = movies_revenue['Topic 4'].astype(str).astype(float)\n",
    "# movies_revenue['Topic 5'] = movies_revenue['Topic 5'].astype(str).astype(float)\n",
    "# movies_revenue['Topic 6'] = movies_revenue['Topic 6'].astype(str).astype(float)\n",
    "# movies_revenue['Topic 7'] = movies_revenue['Topic 7'].astype(str).astype(float)\n",
    "# movies_revenue['Topic 8'] = movies_revenue['Topic 8'].astype(str).astype(float)\n",
    "# movies_revenue['Topic 9'] = movies_revenue['Topic 9'].astype(str).astype(float)\n",
    "# movies_revenue['Topic 10'] = movies_revenue['Topic 10'].astype(str).astype(float)\n",
    "# movies_revenue['budget'] = movies_revenue['budget'].astype(str).astype(float)\n",
    "# movies_revenue['content_rating_G'] = movies_revenue['content_rating_G'].astype(int)\n",
    "# movies_revenue['content_rating_NC17'] = movies_revenue['content_rating_G'].astype(int)\n",
    "# movies_revenue['content_rating_NR'] = movies_revenue['content_rating_G'].astype(int)\n",
    "# movies_revenue['content_rating_PG'] = movies_revenue['content_rating_G'].astype(int)\n",
    "# movies_revenue['content_rating_PG-13'] = movies_revenue['content_rating_G'].astype(int)\n",
    "# movies_revenue['content_rating_R'] = movies_revenue['content_rating_G'].astype(int)"
   ]
  },
  {
   "cell_type": "code",
   "execution_count": 28,
   "id": "8fc1f790-296b-4ca6-bf81-ef7055db79a2",
   "metadata": {},
   "outputs": [
    {
     "data": {
      "text/plain": [
       "Topic 1                             object\n",
       "Topic 2                             object\n",
       "Topic 3                             object\n",
       "Topic 4                             object\n",
       "Topic 5                             object\n",
       "Topic 6                             object\n",
       "Topic 7                             object\n",
       "Topic 8                             object\n",
       "Topic 9                             object\n",
       "Topic 10                            object\n",
       "revenue                            float64\n",
       "tomatometer_rating                 float64\n",
       "tomatometer_top_critics_count        int64\n",
       "tomatometer_fresh_critics_count      int64\n",
       "budget                              object\n",
       "runtime                            float64\n",
       "content_rating_G                     uint8\n",
       "content_rating_NR                    uint8\n",
       "content_rating_PG                    uint8\n",
       "content_rating_PG-13                 uint8\n",
       "content_rating_R                     uint8\n",
       "dtype: object"
      ]
     },
     "execution_count": 28,
     "metadata": {},
     "output_type": "execute_result"
    }
   ],
   "source": [
    "movies_revenue.dtypes"
   ]
  },
  {
   "cell_type": "code",
   "execution_count": 99,
   "id": "dd9cc73c-662e-4e3e-ba50-68ca811c82da",
   "metadata": {},
   "outputs": [],
   "source": [
    "from sklearn.impute import SimpleImputer\n",
    "imputer = SimpleImputer(missing_values=np.nan, strategy='mean')\n",
    "imputer = imputer.fit(movies_revenue)\n",
    "X = imputer.transform(movies_revenue)\n",
    "movies_revenue = pd.DataFrame(X, columns=movies_revenue.columns)"
   ]
  },
  {
   "cell_type": "code",
   "execution_count": 100,
   "id": "e3ae7bbb-8a1c-454c-8ae0-409fd4b84ac7",
   "metadata": {},
   "outputs": [],
   "source": [
    "movies_revenue = movies_revenue[movies_revenue['budget'] > 0]\n",
    "movies_revenue['budget'] = np.log(movies_revenue['budget'])"
   ]
  },
  {
   "cell_type": "code",
   "execution_count": 102,
   "id": "155e60f0-6cfa-4d38-8eea-24f22718711c",
   "metadata": {},
   "outputs": [],
   "source": [
    "movies_revenue['percentile'] = movies_revenue.revenue.rank(pct = True)\n",
    "movies_revenue = movies_revenue[(movies_revenue.percentile >= 0.25) & (movies_revenue.percentile <= 0.75)]\n",
    "movies_revenue = movies_revenue.drop('percentile',axis=1)"
   ]
  },
  {
   "cell_type": "code",
   "execution_count": 103,
   "id": "d933ad71-2b1b-4e4c-bec5-eb564073c192",
   "metadata": {},
   "outputs": [],
   "source": [
    "y_pred = movies_revenue['revenue']\n",
    "movies_revenue = movies_revenue.drop('revenue',axis=1)"
   ]
  },
  {
   "cell_type": "code",
   "execution_count": 32,
   "id": "e93d04ab-4a41-4a0f-a187-7013df458dda",
   "metadata": {},
   "outputs": [],
   "source": [
    "import matplotlib.pyplot as plt\n",
    "from matplotlib import animation\n",
    "import pymc as pm\n",
    "import arviz as az\n",
    "import graphviz"
   ]
  },
  {
   "cell_type": "code",
   "execution_count": 164,
   "id": "f240a24f-a845-4f31-95a4-d7ecd5e36b01",
   "metadata": {},
   "outputs": [
    {
     "data": {
      "image/svg+xml": [
       "<?xml version=\"1.0\" encoding=\"UTF-8\" standalone=\"no\"?>\n",
       "<!DOCTYPE svg PUBLIC \"-//W3C//DTD SVG 1.1//EN\"\n",
       " \"http://www.w3.org/Graphics/SVG/1.1/DTD/svg11.dtd\">\n",
       "<!-- Generated by graphviz version 2.40.1 (20161225.0304)\n",
       " -->\n",
       "<!-- Title: %3 Pages: 1 -->\n",
       "<svg width=\"374pt\" height=\"260pt\"\n",
       " viewBox=\"0.00 0.00 373.72 259.91\" xmlns=\"http://www.w3.org/2000/svg\" xmlns:xlink=\"http://www.w3.org/1999/xlink\">\n",
       "<g id=\"graph0\" class=\"graph\" transform=\"scale(1 1) rotate(0) translate(4 255.9066)\">\n",
       "<title>%3</title>\n",
       "<polygon fill=\"#ffffff\" stroke=\"transparent\" points=\"-4,4 -4,-255.9066 369.7193,-255.9066 369.7193,4 -4,4\"/>\n",
       "<g id=\"clust1\" class=\"cluster\">\n",
       "<title>cluster20</title>\n",
       "<path fill=\"none\" stroke=\"#000000\" d=\"M241.7193,-129.9533C241.7193,-129.9533 345.7193,-129.9533 345.7193,-129.9533 351.7193,-129.9533 357.7193,-135.9533 357.7193,-141.9533 357.7193,-141.9533 357.7193,-231.9066 357.7193,-231.9066 357.7193,-237.9066 351.7193,-243.9066 345.7193,-243.9066 345.7193,-243.9066 241.7193,-243.9066 241.7193,-243.9066 235.7193,-243.9066 229.7193,-237.9066 229.7193,-231.9066 229.7193,-231.9066 229.7193,-141.9533 229.7193,-141.9533 229.7193,-135.9533 235.7193,-129.9533 241.7193,-129.9533\"/>\n",
       "<text text-anchor=\"middle\" x=\"342.2193\" y=\"-137.7533\" font-family=\"Times,serif\" font-size=\"14.00\" fill=\"#000000\">20</text>\n",
       "</g>\n",
       "<g id=\"clust2\" class=\"cluster\">\n",
       "<title>cluster1036</title>\n",
       "<path fill=\"none\" stroke=\"#000000\" d=\"M122.7193,-8C122.7193,-8 198.7193,-8 198.7193,-8 204.7193,-8 210.7193,-14 210.7193,-20 210.7193,-20 210.7193,-109.9533 210.7193,-109.9533 210.7193,-115.9533 204.7193,-121.9533 198.7193,-121.9533 198.7193,-121.9533 122.7193,-121.9533 122.7193,-121.9533 116.7193,-121.9533 110.7193,-115.9533 110.7193,-109.9533 110.7193,-109.9533 110.7193,-20 110.7193,-20 110.7193,-14 116.7193,-8 122.7193,-8\"/>\n",
       "<text text-anchor=\"middle\" x=\"188.2193\" y=\"-15.8\" font-family=\"Times,serif\" font-size=\"14.00\" fill=\"#000000\">1036</text>\n",
       "</g>\n",
       "<!-- β0 -->\n",
       "<g id=\"node1\" class=\"node\">\n",
       "<title>β0</title>\n",
       "<ellipse fill=\"none\" stroke=\"#000000\" cx=\"41.7193\" cy=\"-198.43\" rx=\"41.9398\" ry=\"37.4533\"/>\n",
       "<text text-anchor=\"middle\" x=\"41.7193\" y=\"-209.73\" font-family=\"Times,serif\" font-size=\"14.00\" fill=\"#000000\">β0</text>\n",
       "<text text-anchor=\"middle\" x=\"41.7193\" y=\"-194.73\" font-family=\"Times,serif\" font-size=\"14.00\" fill=\"#000000\">~</text>\n",
       "<text text-anchor=\"middle\" x=\"41.7193\" y=\"-179.73\" font-family=\"Times,serif\" font-size=\"14.00\" fill=\"#000000\">Normal</text>\n",
       "</g>\n",
       "<!-- y_hat -->\n",
       "<g id=\"node4\" class=\"node\">\n",
       "<title>y_hat</title>\n",
       "<ellipse fill=\"#d3d3d3\" stroke=\"#000000\" cx=\"160.7193\" cy=\"-76.4767\" rx=\"41.9398\" ry=\"37.4533\"/>\n",
       "<text text-anchor=\"middle\" x=\"160.7193\" y=\"-87.7767\" font-family=\"Times,serif\" font-size=\"14.00\" fill=\"#000000\">y_hat</text>\n",
       "<text text-anchor=\"middle\" x=\"160.7193\" y=\"-72.7767\" font-family=\"Times,serif\" font-size=\"14.00\" fill=\"#000000\">~</text>\n",
       "<text text-anchor=\"middle\" x=\"160.7193\" y=\"-57.7767\" font-family=\"Times,serif\" font-size=\"14.00\" fill=\"#000000\">Normal</text>\n",
       "</g>\n",
       "<!-- β0&#45;&gt;y_hat -->\n",
       "<g id=\"edge3\" class=\"edge\">\n",
       "<title>β0&#45;&gt;y_hat</title>\n",
       "<path fill=\"none\" stroke=\"#000000\" d=\"M63.179,-166.0081C71.7292,-154.1113 82.0659,-140.8902 92.7193,-129.9533 100.9057,-121.5491 110.4277,-113.2945 119.708,-105.8808\"/>\n",
       "<polygon fill=\"#000000\" stroke=\"#000000\" points=\"122.0288,-108.5094 127.7615,-99.5995 117.7238,-102.9897 122.0288,-108.5094\"/>\n",
       "</g>\n",
       "<!-- sigma -->\n",
       "<g id=\"node2\" class=\"node\">\n",
       "<title>sigma</title>\n",
       "<ellipse fill=\"none\" stroke=\"#000000\" cx=\"160.7193\" cy=\"-198.43\" rx=\"59.2941\" ry=\"37.4533\"/>\n",
       "<text text-anchor=\"middle\" x=\"160.7193\" y=\"-209.73\" font-family=\"Times,serif\" font-size=\"14.00\" fill=\"#000000\">sigma</text>\n",
       "<text text-anchor=\"middle\" x=\"160.7193\" y=\"-194.73\" font-family=\"Times,serif\" font-size=\"14.00\" fill=\"#000000\">~</text>\n",
       "<text text-anchor=\"middle\" x=\"160.7193\" y=\"-179.73\" font-family=\"Times,serif\" font-size=\"14.00\" fill=\"#000000\">HalfCauchy</text>\n",
       "</g>\n",
       "<!-- sigma&#45;&gt;y_hat -->\n",
       "<g id=\"edge1\" class=\"edge\">\n",
       "<title>sigma&#45;&gt;y_hat</title>\n",
       "<path fill=\"none\" stroke=\"#000000\" d=\"M160.7193,-160.8449C160.7193,-149.2534 160.7193,-136.3328 160.7193,-124.1558\"/>\n",
       "<polygon fill=\"#000000\" stroke=\"#000000\" points=\"164.2194,-124.1476 160.7193,-114.1476 157.2194,-124.1476 164.2194,-124.1476\"/>\n",
       "</g>\n",
       "<!-- β -->\n",
       "<g id=\"node3\" class=\"node\">\n",
       "<title>β</title>\n",
       "<ellipse fill=\"none\" stroke=\"#000000\" cx=\"293.7193\" cy=\"-198.43\" rx=\"55.7232\" ry=\"37.4533\"/>\n",
       "<text text-anchor=\"middle\" x=\"293.7193\" y=\"-209.73\" font-family=\"Times,serif\" font-size=\"14.00\" fill=\"#000000\">β</text>\n",
       "<text text-anchor=\"middle\" x=\"293.7193\" y=\"-194.73\" font-family=\"Times,serif\" font-size=\"14.00\" fill=\"#000000\">~</text>\n",
       "<text text-anchor=\"middle\" x=\"293.7193\" y=\"-179.73\" font-family=\"Times,serif\" font-size=\"14.00\" fill=\"#000000\">MvNormal</text>\n",
       "</g>\n",
       "<!-- β&#45;&gt;y_hat -->\n",
       "<g id=\"edge2\" class=\"edge\">\n",
       "<title>β&#45;&gt;y_hat</title>\n",
       "<path fill=\"none\" stroke=\"#000000\" d=\"M264.8702,-166.1276C253.9073,-154.3716 241.078,-141.2136 228.7193,-129.9533 220.0468,-122.0517 210.3354,-113.993 201.0265,-106.6087\"/>\n",
       "<polygon fill=\"#000000\" stroke=\"#000000\" points=\"203.0175,-103.7225 192.9859,-100.3141 198.7025,-109.2344 203.0175,-103.7225\"/>\n",
       "</g>\n",
       "</g>\n",
       "</svg>\n"
      ],
      "text/plain": [
       "<graphviz.dot.Digraph at 0x7fd3f0903790>"
      ]
     },
     "execution_count": 164,
     "metadata": {},
     "output_type": "execute_result"
    }
   ],
   "source": [
    "revenue_shape = movies_revenue.shape[1]\n",
    "with pm.Model() as full_model:\n",
    "    Y = np.log(y_pred)\n",
    "    β0 = pm.Normal('β0', mu=0, sigma=10)\n",
    "    β = pm.MvNormal('β', mu=np.zeros(revenue_shape),cov=np.eye(revenue_shape),shape=revenue_shape)\n",
    "    μ = β0 + pm.math.dot(movies_revenue,β)\n",
    "    sigma = pm.HalfCauchy('sigma',beta=5)\n",
    "    #p = pm.Deterministic('p', pm.invlogit(μ))\n",
    "    y_hat = pm.Normal('y_hat', mu=μ, sigma=sigma,observed=Y)\n",
    "pm.model_to_graphviz(full_model)"
   ]
  },
  {
   "cell_type": "code",
   "execution_count": 165,
   "id": "d22e6ff1-9ea8-4660-adfb-7dd2fe56d925",
   "metadata": {},
   "outputs": [
    {
     "data": {
      "text/html": [
       "\n",
       "<style>\n",
       "    /* Turns off some styling */\n",
       "    progress {\n",
       "        /* gets rid of default border in Firefox and Opera. */\n",
       "        border: none;\n",
       "        /* Needs to be in here for Safari polyfill so background images work as expected. */\n",
       "        background-size: auto;\n",
       "    }\n",
       "    progress:not([value]), progress:not([value])::-webkit-progress-bar {\n",
       "        background: repeating-linear-gradient(45deg, #7e7e7e, #7e7e7e 10px, #5c5c5c 10px, #5c5c5c 20px);\n",
       "    }\n",
       "    .progress-bar-interrupted, .progress-bar-interrupted::-webkit-progress-bar {\n",
       "        background: #F44336;\n",
       "    }\n",
       "</style>\n"
      ],
      "text/plain": [
       "<IPython.core.display.HTML object>"
      ]
     },
     "metadata": {},
     "output_type": "display_data"
    },
    {
     "data": {
      "text/html": [
       "\n",
       "    <div>\n",
       "      <progress value='50000' class='' max='50000' style='width:300px; height:20px; vertical-align: middle;'></progress>\n",
       "      100.00% [50000/50000 00:06&lt;00:00 Average Loss = 1,456.3]\n",
       "    </div>\n",
       "    "
      ],
      "text/plain": [
       "<IPython.core.display.HTML object>"
      ]
     },
     "metadata": {},
     "output_type": "display_data"
    },
    {
     "name": "stderr",
     "output_type": "stream",
     "text": [
      "Finished [100%]: Average Loss = 1,455.9\n"
     ]
    }
   ],
   "source": [
    "advi_fit = pm.fit(50000, method = 'advi', model=full_model)"
   ]
  },
  {
   "cell_type": "code",
   "execution_count": 106,
   "id": "8718ec7b-d6fd-422f-91b5-a68fc3b25774",
   "metadata": {},
   "outputs": [
    {
     "data": {
      "text/plain": [
       "Index(['Topic 1', 'Topic 2', 'Topic 3', 'Topic 4', 'Topic 5', 'Topic 6',\n",
       "       'Topic 7', 'Topic 8', 'Topic 9', 'Topic 10', 'tomatometer_rating',\n",
       "       'tomatometer_top_critics_count', 'tomatometer_fresh_critics_count',\n",
       "       'budget', 'runtime', 'content_rating_G', 'content_rating_NR',\n",
       "       'content_rating_PG', 'content_rating_PG-13', 'content_rating_R'],\n",
       "      dtype='object')"
      ]
     },
     "execution_count": 106,
     "metadata": {},
     "output_type": "execute_result"
    }
   ],
   "source": [
    "movies_revenue.columns"
   ]
  },
  {
   "cell_type": "code",
   "execution_count": 35,
   "id": "dd6be016-2dde-43f4-b70d-41a45140ad1c",
   "metadata": {},
   "outputs": [],
   "source": [
    "#use credible intervals, WAIC"
   ]
  },
  {
   "cell_type": "code",
   "execution_count": 108,
   "id": "fec8c34e-615b-4079-8bcf-cba8f379bf61",
   "metadata": {},
   "outputs": [
    {
     "data": {
      "image/svg+xml": [
       "<?xml version=\"1.0\" encoding=\"UTF-8\" standalone=\"no\"?>\n",
       "<!DOCTYPE svg PUBLIC \"-//W3C//DTD SVG 1.1//EN\"\n",
       " \"http://www.w3.org/Graphics/SVG/1.1/DTD/svg11.dtd\">\n",
       "<!-- Generated by graphviz version 2.40.1 (20161225.0304)\n",
       " -->\n",
       "<!-- Title: %3 Pages: 1 -->\n",
       "<svg width=\"374pt\" height=\"260pt\"\n",
       " viewBox=\"0.00 0.00 373.72 259.91\" xmlns=\"http://www.w3.org/2000/svg\" xmlns:xlink=\"http://www.w3.org/1999/xlink\">\n",
       "<g id=\"graph0\" class=\"graph\" transform=\"scale(1 1) rotate(0) translate(4 255.9066)\">\n",
       "<title>%3</title>\n",
       "<polygon fill=\"#ffffff\" stroke=\"transparent\" points=\"-4,4 -4,-255.9066 369.7193,-255.9066 369.7193,4 -4,4\"/>\n",
       "<g id=\"clust1\" class=\"cluster\">\n",
       "<title>cluster10</title>\n",
       "<path fill=\"none\" stroke=\"#000000\" d=\"M241.7193,-129.9533C241.7193,-129.9533 345.7193,-129.9533 345.7193,-129.9533 351.7193,-129.9533 357.7193,-135.9533 357.7193,-141.9533 357.7193,-141.9533 357.7193,-231.9066 357.7193,-231.9066 357.7193,-237.9066 351.7193,-243.9066 345.7193,-243.9066 345.7193,-243.9066 241.7193,-243.9066 241.7193,-243.9066 235.7193,-243.9066 229.7193,-237.9066 229.7193,-231.9066 229.7193,-231.9066 229.7193,-141.9533 229.7193,-141.9533 229.7193,-135.9533 235.7193,-129.9533 241.7193,-129.9533\"/>\n",
       "<text text-anchor=\"middle\" x=\"342.2193\" y=\"-137.7533\" font-family=\"Times,serif\" font-size=\"14.00\" fill=\"#000000\">10</text>\n",
       "</g>\n",
       "<g id=\"clust2\" class=\"cluster\">\n",
       "<title>cluster1036</title>\n",
       "<path fill=\"none\" stroke=\"#000000\" d=\"M122.7193,-8C122.7193,-8 198.7193,-8 198.7193,-8 204.7193,-8 210.7193,-14 210.7193,-20 210.7193,-20 210.7193,-109.9533 210.7193,-109.9533 210.7193,-115.9533 204.7193,-121.9533 198.7193,-121.9533 198.7193,-121.9533 122.7193,-121.9533 122.7193,-121.9533 116.7193,-121.9533 110.7193,-115.9533 110.7193,-109.9533 110.7193,-109.9533 110.7193,-20 110.7193,-20 110.7193,-14 116.7193,-8 122.7193,-8\"/>\n",
       "<text text-anchor=\"middle\" x=\"188.2193\" y=\"-15.8\" font-family=\"Times,serif\" font-size=\"14.00\" fill=\"#000000\">1036</text>\n",
       "</g>\n",
       "<!-- β0 -->\n",
       "<g id=\"node1\" class=\"node\">\n",
       "<title>β0</title>\n",
       "<ellipse fill=\"none\" stroke=\"#000000\" cx=\"41.7193\" cy=\"-198.43\" rx=\"41.9398\" ry=\"37.4533\"/>\n",
       "<text text-anchor=\"middle\" x=\"41.7193\" y=\"-209.73\" font-family=\"Times,serif\" font-size=\"14.00\" fill=\"#000000\">β0</text>\n",
       "<text text-anchor=\"middle\" x=\"41.7193\" y=\"-194.73\" font-family=\"Times,serif\" font-size=\"14.00\" fill=\"#000000\">~</text>\n",
       "<text text-anchor=\"middle\" x=\"41.7193\" y=\"-179.73\" font-family=\"Times,serif\" font-size=\"14.00\" fill=\"#000000\">Normal</text>\n",
       "</g>\n",
       "<!-- y_hat -->\n",
       "<g id=\"node4\" class=\"node\">\n",
       "<title>y_hat</title>\n",
       "<ellipse fill=\"#d3d3d3\" stroke=\"#000000\" cx=\"160.7193\" cy=\"-76.4767\" rx=\"41.9398\" ry=\"37.4533\"/>\n",
       "<text text-anchor=\"middle\" x=\"160.7193\" y=\"-87.7767\" font-family=\"Times,serif\" font-size=\"14.00\" fill=\"#000000\">y_hat</text>\n",
       "<text text-anchor=\"middle\" x=\"160.7193\" y=\"-72.7767\" font-family=\"Times,serif\" font-size=\"14.00\" fill=\"#000000\">~</text>\n",
       "<text text-anchor=\"middle\" x=\"160.7193\" y=\"-57.7767\" font-family=\"Times,serif\" font-size=\"14.00\" fill=\"#000000\">Normal</text>\n",
       "</g>\n",
       "<!-- β0&#45;&gt;y_hat -->\n",
       "<g id=\"edge3\" class=\"edge\">\n",
       "<title>β0&#45;&gt;y_hat</title>\n",
       "<path fill=\"none\" stroke=\"#000000\" d=\"M63.179,-166.0081C71.7292,-154.1113 82.0659,-140.8902 92.7193,-129.9533 100.9057,-121.5491 110.4277,-113.2945 119.708,-105.8808\"/>\n",
       "<polygon fill=\"#000000\" stroke=\"#000000\" points=\"122.0288,-108.5094 127.7615,-99.5995 117.7238,-102.9897 122.0288,-108.5094\"/>\n",
       "</g>\n",
       "<!-- sigma -->\n",
       "<g id=\"node2\" class=\"node\">\n",
       "<title>sigma</title>\n",
       "<ellipse fill=\"none\" stroke=\"#000000\" cx=\"160.7193\" cy=\"-198.43\" rx=\"59.2941\" ry=\"37.4533\"/>\n",
       "<text text-anchor=\"middle\" x=\"160.7193\" y=\"-209.73\" font-family=\"Times,serif\" font-size=\"14.00\" fill=\"#000000\">sigma</text>\n",
       "<text text-anchor=\"middle\" x=\"160.7193\" y=\"-194.73\" font-family=\"Times,serif\" font-size=\"14.00\" fill=\"#000000\">~</text>\n",
       "<text text-anchor=\"middle\" x=\"160.7193\" y=\"-179.73\" font-family=\"Times,serif\" font-size=\"14.00\" fill=\"#000000\">HalfCauchy</text>\n",
       "</g>\n",
       "<!-- sigma&#45;&gt;y_hat -->\n",
       "<g id=\"edge1\" class=\"edge\">\n",
       "<title>sigma&#45;&gt;y_hat</title>\n",
       "<path fill=\"none\" stroke=\"#000000\" d=\"M160.7193,-160.8449C160.7193,-149.2534 160.7193,-136.3328 160.7193,-124.1558\"/>\n",
       "<polygon fill=\"#000000\" stroke=\"#000000\" points=\"164.2194,-124.1476 160.7193,-114.1476 157.2194,-124.1476 164.2194,-124.1476\"/>\n",
       "</g>\n",
       "<!-- β -->\n",
       "<g id=\"node3\" class=\"node\">\n",
       "<title>β</title>\n",
       "<ellipse fill=\"none\" stroke=\"#000000\" cx=\"293.7193\" cy=\"-198.43\" rx=\"55.7232\" ry=\"37.4533\"/>\n",
       "<text text-anchor=\"middle\" x=\"293.7193\" y=\"-209.73\" font-family=\"Times,serif\" font-size=\"14.00\" fill=\"#000000\">β</text>\n",
       "<text text-anchor=\"middle\" x=\"293.7193\" y=\"-194.73\" font-family=\"Times,serif\" font-size=\"14.00\" fill=\"#000000\">~</text>\n",
       "<text text-anchor=\"middle\" x=\"293.7193\" y=\"-179.73\" font-family=\"Times,serif\" font-size=\"14.00\" fill=\"#000000\">MvNormal</text>\n",
       "</g>\n",
       "<!-- β&#45;&gt;y_hat -->\n",
       "<g id=\"edge2\" class=\"edge\">\n",
       "<title>β&#45;&gt;y_hat</title>\n",
       "<path fill=\"none\" stroke=\"#000000\" d=\"M264.8702,-166.1276C253.9073,-154.3716 241.078,-141.2136 228.7193,-129.9533 220.0468,-122.0517 210.3354,-113.993 201.0265,-106.6087\"/>\n",
       "<polygon fill=\"#000000\" stroke=\"#000000\" points=\"203.0175,-103.7225 192.9859,-100.3141 198.7025,-109.2344 203.0175,-103.7225\"/>\n",
       "</g>\n",
       "</g>\n",
       "</svg>\n"
      ],
      "text/plain": [
       "<graphviz.dot.Digraph at 0x7fd3e0521d00>"
      ]
     },
     "execution_count": 108,
     "metadata": {},
     "output_type": "execute_result"
    }
   ],
   "source": [
    "revenue_shape = movies_revenue.shape[1]\n",
    "with pm.Model() as reduced_model:\n",
    "    Y = np.log(y_pred)\n",
    "    β0 = pm.Normal('β0', mu=0, sigma=10)\n",
    "    β = pm.MvNormal('β', mu=np.zeros(revenue_shape-10),cov=np.eye(revenue_shape-10),shape=revenue_shape-10)\n",
    "    μ = β0 + pm.math.dot(movies_revenue.iloc[:,10:21],β)\n",
    "    sigma = pm.HalfCauchy('sigma',beta=5)\n",
    "    #p = pm.Deterministic('p', pm.invlogit(μ))\n",
    "    y_hat = pm.Normal('y_hat', mu=μ, sigma=sigma,observed=Y)\n",
    "pm.model_to_graphviz(reduced_model)"
   ]
  },
  {
   "cell_type": "code",
   "execution_count": 109,
   "id": "047b7874-3178-4198-94b8-807313048c15",
   "metadata": {},
   "outputs": [
    {
     "data": {
      "text/html": [
       "\n",
       "<style>\n",
       "    /* Turns off some styling */\n",
       "    progress {\n",
       "        /* gets rid of default border in Firefox and Opera. */\n",
       "        border: none;\n",
       "        /* Needs to be in here for Safari polyfill so background images work as expected. */\n",
       "        background-size: auto;\n",
       "    }\n",
       "    progress:not([value]), progress:not([value])::-webkit-progress-bar {\n",
       "        background: repeating-linear-gradient(45deg, #7e7e7e, #7e7e7e 10px, #5c5c5c 10px, #5c5c5c 20px);\n",
       "    }\n",
       "    .progress-bar-interrupted, .progress-bar-interrupted::-webkit-progress-bar {\n",
       "        background: #F44336;\n",
       "    }\n",
       "</style>\n"
      ],
      "text/plain": [
       "<IPython.core.display.HTML object>"
      ]
     },
     "metadata": {},
     "output_type": "display_data"
    },
    {
     "data": {
      "text/html": [
       "\n",
       "    <div>\n",
       "      <progress value='50000' class='' max='50000' style='width:300px; height:20px; vertical-align: middle;'></progress>\n",
       "      100.00% [50000/50000 00:07&lt;00:00 Average Loss = 1,467.1]\n",
       "    </div>\n",
       "    "
      ],
      "text/plain": [
       "<IPython.core.display.HTML object>"
      ]
     },
     "metadata": {},
     "output_type": "display_data"
    },
    {
     "name": "stderr",
     "output_type": "stream",
     "text": [
      "Finished [100%]: Average Loss = 1,467\n"
     ]
    }
   ],
   "source": [
    "advi_reduced = pm.fit(50000, method = 'advi', model=reduced_model)"
   ]
  },
  {
   "cell_type": "code",
   "execution_count": 167,
   "id": "3470857b-373b-4572-8bf9-753f7e1cba1c",
   "metadata": {},
   "outputs": [
    {
     "name": "stderr",
     "output_type": "stream",
     "text": [
      "Auto-assigning NUTS sampler...\n",
      "Initializing NUTS using jitter+adapt_diag...\n",
      "Multiprocess sampling (2 chains in 2 jobs)\n",
      "NUTS: [β0, β, sigma]\n"
     ]
    },
    {
     "data": {
      "text/html": [
       "\n",
       "<style>\n",
       "    /* Turns off some styling */\n",
       "    progress {\n",
       "        /* gets rid of default border in Firefox and Opera. */\n",
       "        border: none;\n",
       "        /* Needs to be in here for Safari polyfill so background images work as expected. */\n",
       "        background-size: auto;\n",
       "    }\n",
       "    progress:not([value]), progress:not([value])::-webkit-progress-bar {\n",
       "        background: repeating-linear-gradient(45deg, #7e7e7e, #7e7e7e 10px, #5c5c5c 10px, #5c5c5c 20px);\n",
       "    }\n",
       "    .progress-bar-interrupted, .progress-bar-interrupted::-webkit-progress-bar {\n",
       "        background: #F44336;\n",
       "    }\n",
       "</style>\n"
      ],
      "text/plain": [
       "<IPython.core.display.HTML object>"
      ]
     },
     "metadata": {},
     "output_type": "display_data"
    },
    {
     "data": {
      "text/html": [
       "\n",
       "    <div>\n",
       "      <progress value='12000' class='' max='12000' style='width:300px; height:20px; vertical-align: middle;'></progress>\n",
       "      100.00% [12000/12000 01:48&lt;00:00 Sampling 2 chains, 0 divergences]\n",
       "    </div>\n",
       "    "
      ],
      "text/plain": [
       "<IPython.core.display.HTML object>"
      ]
     },
     "metadata": {},
     "output_type": "display_data"
    },
    {
     "name": "stderr",
     "output_type": "stream",
     "text": [
      "Sampling 2 chains for 1_000 tune and 5_000 draw iterations (2_000 + 10_000 draws total) took 119 seconds.\n"
     ]
    }
   ],
   "source": [
    "with pm.Model() as reduced_model:\n",
    "    Y = np.log(y_pred)\n",
    "    β0 = pm.Normal('β0', mu=0, sigma=10)\n",
    "    β = pm.MvNormal('β', mu=np.zeros(revenue_shape-10),cov=np.eye(revenue_shape-10),shape=revenue_shape-10)\n",
    "    μ = β0 + pm.math.dot(movies_revenue.iloc[:,10:21],β)\n",
    "    sigma = pm.HalfCauchy('sigma',beta=5)\n",
    "    #p = pm.Deterministic('p', pm.invlogit(μ))\n",
    "    y_hat = pm.Normal('y_hat', mu=μ, sigma=sigma,observed=Y)\n",
    "    binout2 = pm.sample(5000, cores=2)"
   ]
  },
  {
   "cell_type": "code",
   "execution_count": 161,
   "id": "f66eebab-44c7-4831-b7f7-453402212b1e",
   "metadata": {},
   "outputs": [
    {
     "name": "stderr",
     "output_type": "stream",
     "text": [
      "Auto-assigning NUTS sampler...\n",
      "Initializing NUTS using jitter+adapt_diag...\n",
      "Multiprocess sampling (2 chains in 2 jobs)\n",
      "NUTS: [β0, β, sigma]\n"
     ]
    },
    {
     "data": {
      "text/html": [
       "\n",
       "<style>\n",
       "    /* Turns off some styling */\n",
       "    progress {\n",
       "        /* gets rid of default border in Firefox and Opera. */\n",
       "        border: none;\n",
       "        /* Needs to be in here for Safari polyfill so background images work as expected. */\n",
       "        background-size: auto;\n",
       "    }\n",
       "    progress:not([value]), progress:not([value])::-webkit-progress-bar {\n",
       "        background: repeating-linear-gradient(45deg, #7e7e7e, #7e7e7e 10px, #5c5c5c 10px, #5c5c5c 20px);\n",
       "    }\n",
       "    .progress-bar-interrupted, .progress-bar-interrupted::-webkit-progress-bar {\n",
       "        background: #F44336;\n",
       "    }\n",
       "</style>\n"
      ],
      "text/plain": [
       "<IPython.core.display.HTML object>"
      ]
     },
     "metadata": {},
     "output_type": "display_data"
    },
    {
     "data": {
      "text/html": [
       "\n",
       "    <div>\n",
       "      <progress value='12000' class='' max='12000' style='width:300px; height:20px; vertical-align: middle;'></progress>\n",
       "      100.00% [12000/12000 07:11&lt;00:00 Sampling 2 chains, 0 divergences]\n",
       "    </div>\n",
       "    "
      ],
      "text/plain": [
       "<IPython.core.display.HTML object>"
      ]
     },
     "metadata": {},
     "output_type": "display_data"
    },
    {
     "name": "stderr",
     "output_type": "stream",
     "text": [
      "Sampling 2 chains for 1_000 tune and 5_000 draw iterations (2_000 + 10_000 draws total) took 458 seconds.\n"
     ]
    }
   ],
   "source": [
    "with pm.Model() as full_model:\n",
    "    Y = np.log(y_pred)\n",
    "    β0 = pm.Normal('β0', mu=0, sigma=10)\n",
    "    β = pm.MvNormal('β', mu=np.zeros(revenue_shape),cov=np.eye(revenue_shape),shape=revenue_shape)\n",
    "    μ = β0 + pm.math.dot(movies_revenue,β)\n",
    "    sigma = pm.HalfCauchy('sigma',beta=5)\n",
    "    #p = pm.Deterministic('p', pm.invlogit(μ))\n",
    "    y_hat = pm.Normal('y_hat', mu=μ, sigma=sigma,observed=Y)\n",
    "    binout = pm.sample(5000, cores=2)"
   ]
  },
  {
   "cell_type": "code",
   "execution_count": 110,
   "id": "e42fb559-159c-4238-a3ef-efb335907dfd",
   "metadata": {},
   "outputs": [],
   "source": [
    "PPC_SAMPLES = 5000\n",
    "advi_fit_sample = advi_fit.sample(PPC_SAMPLES)"
   ]
  },
  {
   "cell_type": "code",
   "execution_count": 112,
   "id": "654044b5-1d24-4538-b10a-5c7b3c4d1edc",
   "metadata": {},
   "outputs": [
    {
     "data": {
      "text/plain": [
       "array([<AxesSubplot:title={'center':'94.0% HDI'}>], dtype=object)"
      ]
     },
     "execution_count": 112,
     "metadata": {},
     "output_type": "execute_result"
    },
    {
     "data": {
      "image/png": "[encoded data removed]",
      "text/plain": [
       "<Figure size 432x511.2 with 1 Axes>"
      ]
     },
     "metadata": {
      "needs_background": "light"
     },
     "output_type": "display_data"
    }
   ],
   "source": [
    "pm.plot_forest(advi_fit_sample, var_names=['β0','β'])"
   ]
  },
  {
   "cell_type": "code",
   "execution_count": 113,
   "id": "0f24a9bf-9eb0-4020-8203-e3d789e61143",
   "metadata": {},
   "outputs": [],
   "source": [
    "advi_fit_reduced = advi_reduced.sample(PPC_SAMPLES)"
   ]
  },
  {
   "cell_type": "code",
   "execution_count": 114,
   "id": "293a2963-9a56-4903-abb5-5305b00a4f98",
   "metadata": {},
   "outputs": [
    {
     "data": {
      "text/plain": [
       "array([<AxesSubplot:title={'center':'94.0% HDI'}>], dtype=object)"
      ]
     },
     "execution_count": 114,
     "metadata": {},
     "output_type": "execute_result"
    },
    {
     "data": {
      "image/png": "[encoded data removed]",
      "text/plain": [
       "<Figure size 432x439.2 with 1 Axes>"
      ]
     },
     "metadata": {
      "needs_background": "light"
     },
     "output_type": "display_data"
    }
   ],
   "source": [
    "pm.plot_forest(advi_fit_reduced, var_names=['β0','β'])"
   ]
  },
  {
   "cell_type": "code",
   "execution_count": 47,
   "id": "fb36be35-d24d-4ace-8ef2-82be0f54fa00",
   "metadata": {},
   "outputs": [],
   "source": [
    "import seaborn as sns"
   ]
  },
  {
   "cell_type": "code",
   "execution_count": 115,
   "id": "1a91883a-c3d5-4966-a168-c068afbe4a88",
   "metadata": {},
   "outputs": [
    {
     "data": {
      "text/plain": [
       "Text(0.5, 1.0, 'Full Model ELBO vs. time')"
      ]
     },
     "execution_count": 115,
     "metadata": {},
     "output_type": "execute_result"
    },
    {
     "data": {
      "image/png": "[encoded data removed]",
      "text/plain": [
       "<Figure size 432x288 with 1 Axes>"
      ]
     },
     "metadata": {
      "needs_background": "light"
     },
     "output_type": "display_data"
    }
   ],
   "source": [
    "advi_elbo = pd.DataFrame(\n",
    "    {'ELBO': -advi_fit.hist,\n",
    "     'n':np.arange(advi_fit.hist.shape[0])\n",
    "    }\n",
    ")\n",
    "ax = sns.lineplot(y='ELBO',x='n',data=advi_elbo)\n",
    "ax.set_title(\"Full Model ELBO vs. time\")"
   ]
  },
  {
   "cell_type": "code",
   "execution_count": 117,
   "id": "cada3967-ff5b-46c5-a9ca-a4ba583d7208",
   "metadata": {},
   "outputs": [
    {
     "data": {
      "text/plain": [
       "Text(0.5, 1.0, 'Reduced Model ELBO vs. time')"
      ]
     },
     "execution_count": 117,
     "metadata": {},
     "output_type": "execute_result"
    },
    {
     "data": {
      "image/png": "[encoded data removed]",
      "text/plain": [
       "<Figure size 432x288 with 1 Axes>"
      ]
     },
     "metadata": {
      "needs_background": "light"
     },
     "output_type": "display_data"
    }
   ],
   "source": [
    "advi_elbo = pd.DataFrame(\n",
    "    {'ELBO': -advi_reduced.hist,\n",
    "     'n':np.arange(advi_reduced.hist.shape[0])\n",
    "    }\n",
    ")\n",
    "ax = sns.lineplot(y='ELBO',x='n',data=advi_elbo)\n",
    "ax.set_title(\"Reduced Model ELBO vs. time\")"
   ]
  },
  {
   "cell_type": "code",
   "execution_count": 118,
   "id": "d2efcf3e-676f-49fa-83e2-b0742bcf3ea1",
   "metadata": {},
   "outputs": [
    {
     "name": "stdout",
     "output_type": "stream",
     "text": [
      "P(1.277 < O.R. < 7.791) = 0.95\n"
     ]
    }
   ],
   "source": [
    "b =  advi_fit_sample.posterior[\"β\"][:,:,0]\n",
    "OR = np.mean(b, axis =0)\n",
    "\n",
    "lb, ub = np.percentile(OR, 2.5), np.percentile(OR, 97.5)\n",
    "\n",
    "print(\"P({:.3f} < O.R. < {:.3f}) = 0.95\".format(np.exp(lb), np.exp(ub)))"
   ]
  },
  {
   "cell_type": "code",
   "execution_count": 119,
   "id": "e513925f-7de8-4071-84f4-304c7821f9ae",
   "metadata": {},
   "outputs": [
    {
     "data": {
      "image/png": "[encoded data removed]",
      "text/plain": [
       "<Figure size 432x288 with 1 Axes>"
      ]
     },
     "metadata": {
      "needs_background": "light"
     },
     "output_type": "display_data"
    }
   ],
   "source": [
    "b =  advi_fit_sample.posterior[\"β\"][:,:,0]\n",
    "OR = np.mean(b, axis =0)\n",
    "plt.hist(np.exp(OR), bins=20, density=True)\n",
    "plt.xlabel(\"Odds Ratio\")\n",
    "plt.title(\"Topic 1 Odds Ratio VA Model\")\n",
    "plt.show()"
   ]
  },
  {
   "cell_type": "code",
   "execution_count": 120,
   "id": "500d0993-857d-4c99-8097-0b4bb1fc0609",
   "metadata": {},
   "outputs": [
    {
     "data": {
      "image/png": "[encoded data removed]",
      "text/plain": [
       "<Figure size 432x288 with 1 Axes>"
      ]
     },
     "metadata": {
      "needs_background": "light"
     },
     "output_type": "display_data"
    }
   ],
   "source": [
    "b =  advi_fit_sample.posterior[\"β\"][:,:,1]\n",
    "OR = np.mean(b, axis =0)\n",
    "plt.hist(np.exp(OR), bins=20, density=True)\n",
    "plt.xlabel(\"Odds Ratio\")\n",
    "plt.title(\"Topic 2 Odds Ratio VA Model\")\n",
    "plt.show()"
   ]
  },
  {
   "cell_type": "code",
   "execution_count": 121,
   "id": "a6aa526e-40ec-4152-9b83-4fa3e50375a5",
   "metadata": {},
   "outputs": [
    {
     "data": {
      "image/png": "[encoded data removed]",
      "text/plain": [
       "<Figure size 432x288 with 1 Axes>"
      ]
     },
     "metadata": {
      "needs_background": "light"
     },
     "output_type": "display_data"
    }
   ],
   "source": [
    "b =  advi_fit_sample.posterior[\"β\"][:,:,2]\n",
    "OR = np.mean(b, axis =0)\n",
    "plt.hist(np.exp(OR), bins=20, density=True)\n",
    "plt.xlabel(\"Odds Ratio\")\n",
    "plt.title(\"Topic 3 Odds Ratio VA Model\")\n",
    "plt.show()"
   ]
  },
  {
   "cell_type": "code",
   "execution_count": 122,
   "id": "c7d7436e-cd98-4203-b847-66888077626d",
   "metadata": {},
   "outputs": [
    {
     "data": {
      "image/png": "[encoded data removed]",
      "text/plain": [
       "<Figure size 432x288 with 1 Axes>"
      ]
     },
     "metadata": {
      "needs_background": "light"
     },
     "output_type": "display_data"
    }
   ],
   "source": [
    "b =  advi_fit_sample.posterior[\"β\"][:,:,3]\n",
    "OR = np.mean(b, axis =0)\n",
    "plt.hist(np.exp(OR), bins=20, density=True)\n",
    "plt.xlabel(\"Odds Ratio\")\n",
    "plt.title(\"Topic 4 Odds Ratio VA Model\")\n",
    "plt.show()"
   ]
  },
  {
   "cell_type": "code",
   "execution_count": 123,
   "id": "698b0f0c-0dc7-4757-9fb3-1eb295bed633",
   "metadata": {},
   "outputs": [
    {
     "data": {
      "image/png": "[encoded data removed]",
      "text/plain": [
       "<Figure size 432x288 with 1 Axes>"
      ]
     },
     "metadata": {
      "needs_background": "light"
     },
     "output_type": "display_data"
    }
   ],
   "source": [
    "b =  advi_fit_sample.posterior[\"β\"][:,:,4]\n",
    "OR = np.mean(b, axis =0)\n",
    "plt.hist(np.exp(OR), bins=20, density=True)\n",
    "plt.xlabel(\"Odds Ratio\")\n",
    "plt.title(\"Topic 5 Odds Ratio VA Model\")\n",
    "plt.show()"
   ]
  },
  {
   "cell_type": "code",
   "execution_count": 124,
   "id": "5bfe6d50-1abf-4982-8eaf-d506f3306057",
   "metadata": {},
   "outputs": [
    {
     "data": {
      "image/png": "[encoded data removed]",
      "text/plain": [
       "<Figure size 432x288 with 1 Axes>"
      ]
     },
     "metadata": {
      "needs_background": "light"
     },
     "output_type": "display_data"
    }
   ],
   "source": [
    "b =  advi_fit_sample.posterior[\"β\"][:,:,5]\n",
    "OR = np.mean(b, axis =0)\n",
    "plt.hist(np.exp(OR), bins=20, density=True)\n",
    "plt.xlabel(\"Odds Ratio\")\n",
    "plt.title(\"Topic 6 Odds Ratio VA Model\")\n",
    "plt.show()"
   ]
  },
  {
   "cell_type": "code",
   "execution_count": 125,
   "id": "dcfd8349-b918-4441-8efc-b5189d460173",
   "metadata": {},
   "outputs": [
    {
     "data": {
      "image/png": "[encoded data removed]",
      "text/plain": [
       "<Figure size 432x288 with 1 Axes>"
      ]
     },
     "metadata": {
      "needs_background": "light"
     },
     "output_type": "display_data"
    }
   ],
   "source": [
    "b =  advi_fit_sample.posterior[\"β\"][:,:,6]\n",
    "OR = np.mean(b, axis =0)\n",
    "plt.hist(np.exp(OR), bins=20, density=True)\n",
    "plt.xlabel(\"Odds Ratio\")\n",
    "plt.title(\"Topic 7 Odds Ratio VA Model\")\n",
    "plt.show()"
   ]
  },
  {
   "cell_type": "code",
   "execution_count": 126,
   "id": "04fa40df-8beb-4805-a1d3-aa139dc3adb2",
   "metadata": {},
   "outputs": [
    {
     "data": {
      "image/png": "[encoded data removed]",
      "text/plain": [
       "<Figure size 432x288 with 1 Axes>"
      ]
     },
     "metadata": {
      "needs_background": "light"
     },
     "output_type": "display_data"
    }
   ],
   "source": [
    "b =  advi_fit_sample.posterior[\"β\"][:,:,7]\n",
    "OR = np.mean(b, axis =0)\n",
    "plt.hist(np.exp(OR), bins=20, density=True)\n",
    "plt.xlabel(\"Odds Ratio\")\n",
    "plt.title(\"Topic 8 Odds Ratio VA Model\")\n",
    "plt.show()"
   ]
  },
  {
   "cell_type": "code",
   "execution_count": 127,
   "id": "b4e713d1-f2ba-4769-a711-8dac93c66101",
   "metadata": {},
   "outputs": [
    {
     "data": {
      "image/png": "[encoded data removed]",
      "text/plain": [
       "<Figure size 432x288 with 1 Axes>"
      ]
     },
     "metadata": {
      "needs_background": "light"
     },
     "output_type": "display_data"
    }
   ],
   "source": [
    "b =  advi_fit_sample.posterior[\"β\"][:,:,8]\n",
    "OR = np.mean(b, axis =0)\n",
    "plt.hist(np.exp(OR), bins=20, density=True)\n",
    "plt.xlabel(\"Odds Ratio\")\n",
    "plt.title(\"Topic 9 Odds Ratio VA Model\")\n",
    "plt.show()"
   ]
  },
  {
   "cell_type": "code",
   "execution_count": 128,
   "id": "54fcbc74-9c2f-4886-949c-4e6f079098b9",
   "metadata": {},
   "outputs": [
    {
     "data": {
      "image/png": "[encoded data removed]",
      "text/plain": [
       "<Figure size 432x288 with 1 Axes>"
      ]
     },
     "metadata": {
      "needs_background": "light"
     },
     "output_type": "display_data"
    }
   ],
   "source": [
    "b =  advi_fit_sample.posterior[\"β\"][:,:,9]\n",
    "OR = np.mean(b, axis =0)\n",
    "plt.hist(np.exp(OR), bins=20, density=True)\n",
    "plt.xlabel(\"Odds Ratio\")\n",
    "plt.title(\"Topic 10 Odds Ratio VA Model\")\n",
    "plt.show()"
   ]
  },
  {
   "cell_type": "code",
   "execution_count": 129,
   "id": "86d17167-7048-49f1-a788-1e041a76b0e8",
   "metadata": {},
   "outputs": [
    {
     "data": {
      "text/plain": [
       "Index(['Topic 1', 'Topic 2', 'Topic 3', 'Topic 4', 'Topic 5', 'Topic 6',\n",
       "       'Topic 7', 'Topic 8', 'Topic 9', 'Topic 10', 'tomatometer_rating',\n",
       "       'tomatometer_top_critics_count', 'tomatometer_fresh_critics_count',\n",
       "       'budget', 'runtime', 'content_rating_G', 'content_rating_NR',\n",
       "       'content_rating_PG', 'content_rating_PG-13', 'content_rating_R'],\n",
       "      dtype='object')"
      ]
     },
     "execution_count": 129,
     "metadata": {},
     "output_type": "execute_result"
    }
   ],
   "source": [
    "movies_revenue.columns"
   ]
  },
  {
   "cell_type": "code",
   "execution_count": 130,
   "id": "abf637ca-f421-466c-acae-111bacdd8803",
   "metadata": {},
   "outputs": [
    {
     "data": {
      "image/png": "[encoded data removed]",
      "text/plain": [
       "<Figure size 432x288 with 1 Axes>"
      ]
     },
     "metadata": {
      "needs_background": "light"
     },
     "output_type": "display_data"
    }
   ],
   "source": [
    "b =  advi_fit_sample.posterior[\"β\"][:,:,10]\n",
    "OR = np.mean(b, axis =0)\n",
    "plt.hist(np.exp(OR), bins=20, density=True)\n",
    "plt.xlabel(\"Odds Ratio\")\n",
    "plt.title(\"tomatometer_rating Odds Ratio VA Model\")\n",
    "plt.show()"
   ]
  },
  {
   "cell_type": "code",
   "execution_count": 131,
   "id": "a7d29efd-b398-4c09-8861-6260cf082196",
   "metadata": {},
   "outputs": [
    {
     "data": {
      "image/png": "[encoded data removed]",
      "text/plain": [
       "<Figure size 432x288 with 1 Axes>"
      ]
     },
     "metadata": {
      "needs_background": "light"
     },
     "output_type": "display_data"
    }
   ],
   "source": [
    "b =  advi_fit_sample.posterior[\"β\"][:,:,11]\n",
    "OR = np.mean(b, axis =0)\n",
    "plt.hist(np.exp(OR), bins=20, density=True)\n",
    "plt.xlabel(\"Odds Ratio\")\n",
    "plt.title(\"tomatometer_top_critics_count Odds Ratio VA Model\")\n",
    "plt.show()"
   ]
  },
  {
   "cell_type": "code",
   "execution_count": 132,
   "id": "806296c9-ddba-4aef-bfbc-4dd4b2d1e252",
   "metadata": {},
   "outputs": [
    {
     "data": {
      "image/png": "[encoded data removed]",
      "text/plain": [
       "<Figure size 432x288 with 1 Axes>"
      ]
     },
     "metadata": {
      "needs_background": "light"
     },
     "output_type": "display_data"
    }
   ],
   "source": [
    "b =  advi_fit_sample.posterior[\"β\"][:,:,12]\n",
    "OR = np.mean(b, axis =0)\n",
    "plt.hist(np.exp(OR), bins=20, density=True)\n",
    "plt.xlabel(\"Odds Ratio\")\n",
    "plt.title(\"tomatometer_fresh_critics_count Odds Ratio VA Model\")\n",
    "plt.show()"
   ]
  },
  {
   "cell_type": "code",
   "execution_count": 133,
   "id": "733c13f3-14e4-4089-a517-0eb0b144cb75",
   "metadata": {},
   "outputs": [
    {
     "data": {
      "image/png": "[encoded data removed]",
      "text/plain": [
       "<Figure size 432x288 with 1 Axes>"
      ]
     },
     "metadata": {
      "needs_background": "light"
     },
     "output_type": "display_data"
    }
   ],
   "source": [
    "b =  advi_fit_sample.posterior[\"β\"][:,:,13]\n",
    "OR = np.mean(b, axis =0)\n",
    "plt.hist(np.exp(OR), bins=20, density=True)\n",
    "plt.xlabel(\"Odds Ratio\")\n",
    "plt.title(\"Budget Odds Ratio VA Model\")\n",
    "plt.show()"
   ]
  },
  {
   "cell_type": "code",
   "execution_count": 134,
   "id": "388810f6-24da-43ac-8cca-08785dfce2c2",
   "metadata": {},
   "outputs": [
    {
     "data": {
      "image/png": "[encoded data removed]",
      "text/plain": [
       "<Figure size 432x288 with 1 Axes>"
      ]
     },
     "metadata": {
      "needs_background": "light"
     },
     "output_type": "display_data"
    }
   ],
   "source": [
    "b =  advi_fit_sample.posterior[\"β\"][:,:,14]\n",
    "OR = np.mean(b, axis =0)\n",
    "plt.hist(np.exp(OR), bins=20, density=True)\n",
    "plt.xlabel(\"Odds Ratio\")\n",
    "plt.title(\"Runtime Odds Ratio VA Model\")\n",
    "plt.show()"
   ]
  },
  {
   "cell_type": "code",
   "execution_count": 135,
   "id": "2a46a0cd-a3b8-470a-bebc-2a49a8fba166",
   "metadata": {},
   "outputs": [
    {
     "data": {
      "image/png": "[encoded data removed]",
      "text/plain": [
       "<Figure size 432x288 with 1 Axes>"
      ]
     },
     "metadata": {
      "needs_background": "light"
     },
     "output_type": "display_data"
    }
   ],
   "source": [
    "b =  advi_fit_sample.posterior[\"β\"][:,:,15]\n",
    "OR = np.mean(b, axis =0)\n",
    "plt.hist(np.exp(OR), bins=20, density=True)\n",
    "plt.xlabel(\"Odds Ratio\")\n",
    "plt.title(\"content_rating_G Odds Ratio VA Model\")\n",
    "plt.show()"
   ]
  },
  {
   "cell_type": "code",
   "execution_count": 136,
   "id": "a6a812e6-2847-4958-9539-8c8a6a2280b1",
   "metadata": {},
   "outputs": [
    {
     "data": {
      "image/png": "[encoded data removed]",
      "text/plain": [
       "<Figure size 432x288 with 1 Axes>"
      ]
     },
     "metadata": {
      "needs_background": "light"
     },
     "output_type": "display_data"
    }
   ],
   "source": [
    "b =  advi_fit_sample.posterior[\"β\"][:,:,16]\n",
    "OR = np.mean(b, axis =0)\n",
    "plt.hist(np.exp(OR), bins=20, density=True)\n",
    "plt.xlabel(\"Odds Ratio\")\n",
    "plt.title(\"content_rating_NR Odds Ratio VA Model\")\n",
    "plt.show()"
   ]
  },
  {
   "cell_type": "code",
   "execution_count": 137,
   "id": "ecc309c5-188e-4daa-a3b4-0beca98b41a4",
   "metadata": {},
   "outputs": [
    {
     "data": {
      "image/png": "[encoded data removed]",
      "text/plain": [
       "<Figure size 432x288 with 1 Axes>"
      ]
     },
     "metadata": {
      "needs_background": "light"
     },
     "output_type": "display_data"
    }
   ],
   "source": [
    "b =  advi_fit_sample.posterior[\"β\"][:,:,17]\n",
    "OR = np.mean(b, axis =0)\n",
    "plt.hist(np.exp(OR), bins=20, density=True)\n",
    "plt.xlabel(\"Odds Ratio\")\n",
    "plt.title(\"content_rating_PG Odds Ratio VA Model\")\n",
    "plt.show()"
   ]
  },
  {
   "cell_type": "code",
   "execution_count": 138,
   "id": "e7a86a3b-3f06-4b54-b6de-cd3c25777ed9",
   "metadata": {},
   "outputs": [
    {
     "data": {
      "image/png": "[encoded data removed]",
      "text/plain": [
       "<Figure size 432x288 with 1 Axes>"
      ]
     },
     "metadata": {
      "needs_background": "light"
     },
     "output_type": "display_data"
    }
   ],
   "source": [
    "b =  advi_fit_sample.posterior[\"β\"][:,:,18]\n",
    "OR = np.mean(b, axis =0)\n",
    "plt.hist(np.exp(OR), bins=20, density=True)\n",
    "plt.xlabel(\"Odds Ratio\")\n",
    "plt.title(\"content_rating_PG-13 Odds Ratio VA Model\")\n",
    "plt.show()"
   ]
  },
  {
   "cell_type": "code",
   "execution_count": 139,
   "id": "f344fa16-2383-4a12-9597-b68195d62ceb",
   "metadata": {},
   "outputs": [
    {
     "data": {
      "image/png": "[encoded data removed]",
      "text/plain": [
       "<Figure size 432x288 with 1 Axes>"
      ]
     },
     "metadata": {
      "needs_background": "light"
     },
     "output_type": "display_data"
    }
   ],
   "source": [
    "b =  advi_fit_sample.posterior[\"β\"][:,:,19]\n",
    "OR = np.mean(b, axis =0)\n",
    "plt.hist(np.exp(OR), bins=20, density=True)\n",
    "plt.xlabel(\"Odds Ratio\")\n",
    "plt.title(\"content_rating_R Odds Ratio VA Model\")\n",
    "plt.show()"
   ]
  },
  {
   "cell_type": "code",
   "execution_count": 168,
   "id": "80a2db83-eee6-4e04-b356-9fa7f997cc51",
   "metadata": {},
   "outputs": [
    {
     "name": "stderr",
     "output_type": "stream",
     "text": [
      "/Users/aubrey/opt/anaconda3/lib/python3.9/site-packages/arviz/stats/stats.py:1644: UserWarning: For one or more samples the posterior variance of the log predictive densities exceeds 0.4. This could be indication of WAIC starting to fail. \n",
      "See http://arxiv.org/abs/1507.04544 for details\n",
      "  warnings.warn(\n",
      "/Users/aubrey/opt/anaconda3/lib/python3.9/site-packages/arviz/stats/stats.py:1644: UserWarning: For one or more samples the posterior variance of the log predictive densities exceeds 0.4. This could be indication of WAIC starting to fail. \n",
      "See http://arxiv.org/abs/1507.04544 for details\n",
      "  warnings.warn(\n"
     ]
    },
    {
     "data": {
      "text/html": [
       "<div>\n",
       "<style scoped>\n",
       "    .dataframe tbody tr th:only-of-type {\n",
       "        vertical-align: middle;\n",
       "    }\n",
       "\n",
       "    .dataframe tbody tr th {\n",
       "        vertical-align: top;\n",
       "    }\n",
       "\n",
       "    .dataframe thead th {\n",
       "        text-align: right;\n",
       "    }\n",
       "</style>\n",
       "<table border=\"1\" class=\"dataframe\">\n",
       "  <thead>\n",
       "    <tr style=\"text-align: right;\">\n",
       "      <th></th>\n",
       "      <th>rank</th>\n",
       "      <th>elpd_waic</th>\n",
       "      <th>p_waic</th>\n",
       "      <th>elpd_diff</th>\n",
       "      <th>weight</th>\n",
       "      <th>se</th>\n",
       "      <th>dse</th>\n",
       "      <th>warning</th>\n",
       "      <th>scale</th>\n",
       "    </tr>\n",
       "  </thead>\n",
       "  <tbody>\n",
       "    <tr>\n",
       "      <th>simple_model</th>\n",
       "      <td>0</td>\n",
       "      <td>-277.173244</td>\n",
       "      <td>11.282681</td>\n",
       "      <td>0.000000</td>\n",
       "      <td>0.703844</td>\n",
       "      <td>15.861352</td>\n",
       "      <td>0.000000</td>\n",
       "      <td>True</td>\n",
       "      <td>log</td>\n",
       "    </tr>\n",
       "    <tr>\n",
       "      <th>full_model</th>\n",
       "      <td>1</td>\n",
       "      <td>-279.749087</td>\n",
       "      <td>20.093601</td>\n",
       "      <td>2.575843</td>\n",
       "      <td>0.296156</td>\n",
       "      <td>15.965787</td>\n",
       "      <td>3.547171</td>\n",
       "      <td>True</td>\n",
       "      <td>log</td>\n",
       "    </tr>\n",
       "  </tbody>\n",
       "</table>\n",
       "</div>"
      ],
      "text/plain": [
       "              rank   elpd_waic     p_waic  elpd_diff    weight         se  \\\n",
       "simple_model     0 -277.173244  11.282681   0.000000  0.703844  15.861352   \n",
       "full_model       1 -279.749087  20.093601   2.575843  0.296156  15.965787   \n",
       "\n",
       "                   dse  warning scale  \n",
       "simple_model  0.000000     True   log  \n",
       "full_model    3.547171     True   log  "
      ]
     },
     "execution_count": 168,
     "metadata": {},
     "output_type": "execute_result"
    }
   ],
   "source": [
    "#WAIC\n",
    "cmp_waic = az.compare({'full_model':binout, 'simple_model':binout2}, ic='waic')\n",
    "cmp_waic"
   ]
  },
  {
   "cell_type": "code",
   "execution_count": 170,
   "id": "6844d5f9-301d-48e2-af72-f057f03d683c",
   "metadata": {},
   "outputs": [
    {
     "name": "stderr",
     "output_type": "stream",
     "text": [
      "/Users/aubrey/opt/anaconda3/lib/python3.9/site-packages/arviz/stats/stats.py:1644: UserWarning: For one or more samples the posterior variance of the log predictive densities exceeds 0.4. This could be indication of WAIC starting to fail. \n",
      "See http://arxiv.org/abs/1507.04544 for details\n",
      "  warnings.warn(\n"
     ]
    },
    {
     "data": {
      "text/plain": [
       "Computed from 10000 posterior samples and 1036 observations log-likelihood matrix.\n",
       "\n",
       "          Estimate       SE\n",
       "elpd_waic  -279.75    15.97\n",
       "p_waic       20.09        -\n",
       "\n",
       "There has been a warning during the calculation. Please check the results."
      ]
     },
     "execution_count": 170,
     "metadata": {},
     "output_type": "execute_result"
    }
   ],
   "source": [
    "az.waic(binout,full_model)"
   ]
  },
  {
   "cell_type": "code",
   "execution_count": 169,
   "id": "a191fa22-4647-4064-9141-ff1ab7a8353b",
   "metadata": {},
   "outputs": [
    {
     "data": {
      "text/html": [
       "<div>\n",
       "<style scoped>\n",
       "    .dataframe tbody tr th:only-of-type {\n",
       "        vertical-align: middle;\n",
       "    }\n",
       "\n",
       "    .dataframe tbody tr th {\n",
       "        vertical-align: top;\n",
       "    }\n",
       "\n",
       "    .dataframe thead th {\n",
       "        text-align: right;\n",
       "    }\n",
       "</style>\n",
       "<table border=\"1\" class=\"dataframe\">\n",
       "  <thead>\n",
       "    <tr style=\"text-align: right;\">\n",
       "      <th></th>\n",
       "      <th>rank</th>\n",
       "      <th>elpd_loo</th>\n",
       "      <th>p_loo</th>\n",
       "      <th>elpd_diff</th>\n",
       "      <th>weight</th>\n",
       "      <th>se</th>\n",
       "      <th>dse</th>\n",
       "      <th>warning</th>\n",
       "      <th>scale</th>\n",
       "    </tr>\n",
       "  </thead>\n",
       "  <tbody>\n",
       "    <tr>\n",
       "      <th>simple_model</th>\n",
       "      <td>0</td>\n",
       "      <td>554.487196</td>\n",
       "      <td>11.353035</td>\n",
       "      <td>0.000000</td>\n",
       "      <td>0.706628</td>\n",
       "      <td>31.734781</td>\n",
       "      <td>0.000000</td>\n",
       "      <td>False</td>\n",
       "      <td>deviance</td>\n",
       "    </tr>\n",
       "    <tr>\n",
       "      <th>full_model</th>\n",
       "      <td>1</td>\n",
       "      <td>559.700892</td>\n",
       "      <td>20.194960</td>\n",
       "      <td>5.213696</td>\n",
       "      <td>0.293372</td>\n",
       "      <td>31.951500</td>\n",
       "      <td>7.089513</td>\n",
       "      <td>False</td>\n",
       "      <td>deviance</td>\n",
       "    </tr>\n",
       "  </tbody>\n",
       "</table>\n",
       "</div>"
      ],
      "text/plain": [
       "              rank    elpd_loo      p_loo  elpd_diff    weight         se  \\\n",
       "simple_model     0  554.487196  11.353035   0.000000  0.706628  31.734781   \n",
       "full_model       1  559.700892  20.194960   5.213696  0.293372  31.951500   \n",
       "\n",
       "                   dse  warning     scale  \n",
       "simple_model  0.000000    False  deviance  \n",
       "full_model    7.089513    False  deviance  "
      ]
     },
     "execution_count": 169,
     "metadata": {},
     "output_type": "execute_result"
    }
   ],
   "source": [
    "#LOO\n",
    "cmp_loo = az.compare({'full_model':binout, 'simple_model':binout2}, ic='loo',scale='deviance')\n",
    "cmp_loo"
   ]
  },
  {
   "cell_type": "code",
   "execution_count": 171,
   "id": "7aba9526-f205-43a0-8cd1-3c7dd69da1e5",
   "metadata": {},
   "outputs": [
    {
     "name": "stderr",
     "output_type": "stream",
     "text": [
      "/Users/aubrey/opt/anaconda3/lib/python3.9/site-packages/arviz/stats/stats.py:1644: UserWarning: For one or more samples the posterior variance of the log predictive densities exceeds 0.4. This could be indication of WAIC starting to fail. \n",
      "See http://arxiv.org/abs/1507.04544 for details\n",
      "  warnings.warn(\n"
     ]
    },
    {
     "data": {
      "text/plain": [
       "Computed from 10000 posterior samples and 1036 observations log-likelihood matrix.\n",
       "\n",
       "          Estimate       SE\n",
       "elpd_waic  -277.17    15.86\n",
       "p_waic       11.28        -\n",
       "\n",
       "There has been a warning during the calculation. Please check the results."
      ]
     },
     "execution_count": 171,
     "metadata": {},
     "output_type": "execute_result"
    }
   ],
   "source": [
    "az.waic(binout2,full_model)"
   ]
  }
 ],
 "metadata": {
  "kernelspec": {
   "display_name": "Python 3 (ipykernel)",
   "language": "python",
   "name": "python3"
  },
  "language_info": {
   "codemirror_mode": {
    "name": "ipython",
    "version": 3
   },
   "file_extension": ".py",
   "mimetype": "text/x-python",
   "name": "python",
   "nbconvert_exporter": "python",
   "pygments_lexer": "ipython3",
   "version": "3.9.12"
  }
 },
 "nbformat": 4,
 "nbformat_minor": 5
}
